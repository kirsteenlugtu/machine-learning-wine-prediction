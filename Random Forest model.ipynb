{
 "cells": [
  {
   "cell_type": "markdown",
   "id": "0e3c894a",
   "metadata": {},
   "source": [
    "# Import libraries"
   ]
  },
  {
   "cell_type": "code",
   "execution_count": null,
   "id": "7b7c1963",
   "metadata": {},
   "outputs": [],
   "source": [
    "# Update sklearn to prevent version mismatches\n",
    "# !pip install sklearn --upgrade"
   ]
  },
  {
   "cell_type": "code",
   "execution_count": 4,
   "id": "c691d40c",
   "metadata": {},
   "outputs": [],
   "source": [
    "import pandas as pd\n",
    "from sklearn.model_selection import train_test_split, GridSearchCV\n",
    "import numpy as np\n",
    "from sklearn.preprocessing import MinMaxScaler, StandardScaler\n",
    "from sklearn.ensemble import RandomForestClassifier\n",
    "import matplotlib.pyplot as plt\n",
    "from sklearn.metrics import confusion_matrix, ConfusionMatrixDisplay\n",
    "import pickle"
   ]
  },
  {
   "cell_type": "markdown",
   "id": "86606170",
   "metadata": {},
   "source": [
    "# Import data\n",
    "Needed to use the \"sep\" argument because data is separate by semicolons"
   ]
  },
  {
   "cell_type": "code",
   "execution_count": 5,
   "id": "437d4596",
   "metadata": {},
   "outputs": [],
   "source": [
    "df_red = pd.read_csv(\"Data/winequality-red.csv\")\n",
    "df_white = pd.read_csv(\"Data/winequality-white.csv\")              \n"
   ]
  },
  {
   "cell_type": "code",
   "execution_count": 6,
   "id": "bd784000",
   "metadata": {},
   "outputs": [
    {
     "data": {
      "text/html": [
       "<div>\n",
       "<style scoped>\n",
       "    .dataframe tbody tr th:only-of-type {\n",
       "        vertical-align: middle;\n",
       "    }\n",
       "\n",
       "    .dataframe tbody tr th {\n",
       "        vertical-align: top;\n",
       "    }\n",
       "\n",
       "    .dataframe thead th {\n",
       "        text-align: right;\n",
       "    }\n",
       "</style>\n",
       "<table border=\"1\" class=\"dataframe\">\n",
       "  <thead>\n",
       "    <tr style=\"text-align: right;\">\n",
       "      <th></th>\n",
       "      <th>fixed acidity</th>\n",
       "      <th>volatile acidity</th>\n",
       "      <th>citric acid</th>\n",
       "      <th>residual sugar</th>\n",
       "      <th>chlorides</th>\n",
       "      <th>free sulfur dioxide</th>\n",
       "      <th>total sulfur dioxide</th>\n",
       "      <th>density</th>\n",
       "      <th>pH</th>\n",
       "      <th>sulphates</th>\n",
       "      <th>alcohol</th>\n",
       "      <th>quality</th>\n",
       "    </tr>\n",
       "  </thead>\n",
       "  <tbody>\n",
       "    <tr>\n",
       "      <th>0</th>\n",
       "      <td>7.4</td>\n",
       "      <td>0.70</td>\n",
       "      <td>0.00</td>\n",
       "      <td>1.9</td>\n",
       "      <td>0.076</td>\n",
       "      <td>11.0</td>\n",
       "      <td>34.0</td>\n",
       "      <td>0.9978</td>\n",
       "      <td>3.51</td>\n",
       "      <td>0.56</td>\n",
       "      <td>9.4</td>\n",
       "      <td>5</td>\n",
       "    </tr>\n",
       "    <tr>\n",
       "      <th>1</th>\n",
       "      <td>7.8</td>\n",
       "      <td>0.88</td>\n",
       "      <td>0.00</td>\n",
       "      <td>2.6</td>\n",
       "      <td>0.098</td>\n",
       "      <td>25.0</td>\n",
       "      <td>67.0</td>\n",
       "      <td>0.9968</td>\n",
       "      <td>3.20</td>\n",
       "      <td>0.68</td>\n",
       "      <td>9.8</td>\n",
       "      <td>5</td>\n",
       "    </tr>\n",
       "    <tr>\n",
       "      <th>2</th>\n",
       "      <td>7.8</td>\n",
       "      <td>0.76</td>\n",
       "      <td>0.04</td>\n",
       "      <td>2.3</td>\n",
       "      <td>0.092</td>\n",
       "      <td>15.0</td>\n",
       "      <td>54.0</td>\n",
       "      <td>0.9970</td>\n",
       "      <td>3.26</td>\n",
       "      <td>0.65</td>\n",
       "      <td>9.8</td>\n",
       "      <td>5</td>\n",
       "    </tr>\n",
       "    <tr>\n",
       "      <th>3</th>\n",
       "      <td>11.2</td>\n",
       "      <td>0.28</td>\n",
       "      <td>0.56</td>\n",
       "      <td>1.9</td>\n",
       "      <td>0.075</td>\n",
       "      <td>17.0</td>\n",
       "      <td>60.0</td>\n",
       "      <td>0.9980</td>\n",
       "      <td>3.16</td>\n",
       "      <td>0.58</td>\n",
       "      <td>9.8</td>\n",
       "      <td>6</td>\n",
       "    </tr>\n",
       "    <tr>\n",
       "      <th>4</th>\n",
       "      <td>7.4</td>\n",
       "      <td>0.70</td>\n",
       "      <td>0.00</td>\n",
       "      <td>1.9</td>\n",
       "      <td>0.076</td>\n",
       "      <td>11.0</td>\n",
       "      <td>34.0</td>\n",
       "      <td>0.9978</td>\n",
       "      <td>3.51</td>\n",
       "      <td>0.56</td>\n",
       "      <td>9.4</td>\n",
       "      <td>5</td>\n",
       "    </tr>\n",
       "  </tbody>\n",
       "</table>\n",
       "</div>"
      ],
      "text/plain": [
       "   fixed acidity  volatile acidity  citric acid  residual sugar  chlorides  \\\n",
       "0            7.4              0.70         0.00             1.9      0.076   \n",
       "1            7.8              0.88         0.00             2.6      0.098   \n",
       "2            7.8              0.76         0.04             2.3      0.092   \n",
       "3           11.2              0.28         0.56             1.9      0.075   \n",
       "4            7.4              0.70         0.00             1.9      0.076   \n",
       "\n",
       "   free sulfur dioxide  total sulfur dioxide  density    pH  sulphates  \\\n",
       "0                 11.0                  34.0   0.9978  3.51       0.56   \n",
       "1                 25.0                  67.0   0.9968  3.20       0.68   \n",
       "2                 15.0                  54.0   0.9970  3.26       0.65   \n",
       "3                 17.0                  60.0   0.9980  3.16       0.58   \n",
       "4                 11.0                  34.0   0.9978  3.51       0.56   \n",
       "\n",
       "   alcohol  quality  \n",
       "0      9.4        5  \n",
       "1      9.8        5  \n",
       "2      9.8        5  \n",
       "3      9.8        6  \n",
       "4      9.4        5  "
      ]
     },
     "execution_count": 6,
     "metadata": {},
     "output_type": "execute_result"
    }
   ],
   "source": [
    "df_red.head()"
   ]
  },
  {
   "cell_type": "code",
   "execution_count": 7,
   "id": "82a318de",
   "metadata": {},
   "outputs": [
    {
     "data": {
      "text/html": [
       "<div>\n",
       "<style scoped>\n",
       "    .dataframe tbody tr th:only-of-type {\n",
       "        vertical-align: middle;\n",
       "    }\n",
       "\n",
       "    .dataframe tbody tr th {\n",
       "        vertical-align: top;\n",
       "    }\n",
       "\n",
       "    .dataframe thead th {\n",
       "        text-align: right;\n",
       "    }\n",
       "</style>\n",
       "<table border=\"1\" class=\"dataframe\">\n",
       "  <thead>\n",
       "    <tr style=\"text-align: right;\">\n",
       "      <th></th>\n",
       "      <th>fixed acidity</th>\n",
       "      <th>volatile acidity</th>\n",
       "      <th>citric acid</th>\n",
       "      <th>residual sugar</th>\n",
       "      <th>chlorides</th>\n",
       "      <th>free sulfur dioxide</th>\n",
       "      <th>total sulfur dioxide</th>\n",
       "      <th>density</th>\n",
       "      <th>pH</th>\n",
       "      <th>sulphates</th>\n",
       "      <th>alcohol</th>\n",
       "      <th>quality</th>\n",
       "    </tr>\n",
       "  </thead>\n",
       "  <tbody>\n",
       "    <tr>\n",
       "      <th>0</th>\n",
       "      <td>7.0</td>\n",
       "      <td>0.27</td>\n",
       "      <td>0.36</td>\n",
       "      <td>20.7</td>\n",
       "      <td>0.045</td>\n",
       "      <td>45.0</td>\n",
       "      <td>170.0</td>\n",
       "      <td>1.0010</td>\n",
       "      <td>3.00</td>\n",
       "      <td>0.45</td>\n",
       "      <td>8.8</td>\n",
       "      <td>6</td>\n",
       "    </tr>\n",
       "    <tr>\n",
       "      <th>1</th>\n",
       "      <td>6.3</td>\n",
       "      <td>0.30</td>\n",
       "      <td>0.34</td>\n",
       "      <td>1.6</td>\n",
       "      <td>0.049</td>\n",
       "      <td>14.0</td>\n",
       "      <td>132.0</td>\n",
       "      <td>0.9940</td>\n",
       "      <td>3.30</td>\n",
       "      <td>0.49</td>\n",
       "      <td>9.5</td>\n",
       "      <td>6</td>\n",
       "    </tr>\n",
       "    <tr>\n",
       "      <th>2</th>\n",
       "      <td>8.1</td>\n",
       "      <td>0.28</td>\n",
       "      <td>0.40</td>\n",
       "      <td>6.9</td>\n",
       "      <td>0.050</td>\n",
       "      <td>30.0</td>\n",
       "      <td>97.0</td>\n",
       "      <td>0.9951</td>\n",
       "      <td>3.26</td>\n",
       "      <td>0.44</td>\n",
       "      <td>10.1</td>\n",
       "      <td>6</td>\n",
       "    </tr>\n",
       "    <tr>\n",
       "      <th>3</th>\n",
       "      <td>7.2</td>\n",
       "      <td>0.23</td>\n",
       "      <td>0.32</td>\n",
       "      <td>8.5</td>\n",
       "      <td>0.058</td>\n",
       "      <td>47.0</td>\n",
       "      <td>186.0</td>\n",
       "      <td>0.9956</td>\n",
       "      <td>3.19</td>\n",
       "      <td>0.40</td>\n",
       "      <td>9.9</td>\n",
       "      <td>6</td>\n",
       "    </tr>\n",
       "    <tr>\n",
       "      <th>4</th>\n",
       "      <td>7.2</td>\n",
       "      <td>0.23</td>\n",
       "      <td>0.32</td>\n",
       "      <td>8.5</td>\n",
       "      <td>0.058</td>\n",
       "      <td>47.0</td>\n",
       "      <td>186.0</td>\n",
       "      <td>0.9956</td>\n",
       "      <td>3.19</td>\n",
       "      <td>0.40</td>\n",
       "      <td>9.9</td>\n",
       "      <td>6</td>\n",
       "    </tr>\n",
       "  </tbody>\n",
       "</table>\n",
       "</div>"
      ],
      "text/plain": [
       "   fixed acidity  volatile acidity  citric acid  residual sugar  chlorides  \\\n",
       "0            7.0              0.27         0.36            20.7      0.045   \n",
       "1            6.3              0.30         0.34             1.6      0.049   \n",
       "2            8.1              0.28         0.40             6.9      0.050   \n",
       "3            7.2              0.23         0.32             8.5      0.058   \n",
       "4            7.2              0.23         0.32             8.5      0.058   \n",
       "\n",
       "   free sulfur dioxide  total sulfur dioxide  density    pH  sulphates  \\\n",
       "0                 45.0                 170.0   1.0010  3.00       0.45   \n",
       "1                 14.0                 132.0   0.9940  3.30       0.49   \n",
       "2                 30.0                  97.0   0.9951  3.26       0.44   \n",
       "3                 47.0                 186.0   0.9956  3.19       0.40   \n",
       "4                 47.0                 186.0   0.9956  3.19       0.40   \n",
       "\n",
       "   alcohol  quality  \n",
       "0      8.8        6  \n",
       "1      9.5        6  \n",
       "2     10.1        6  \n",
       "3      9.9        6  \n",
       "4      9.9        6  "
      ]
     },
     "execution_count": 7,
     "metadata": {},
     "output_type": "execute_result"
    }
   ],
   "source": [
    "df_white.head()"
   ]
  },
  {
   "cell_type": "markdown",
   "id": "a634dd5c",
   "metadata": {},
   "source": [
    "# clean data \n",
    "(turns out no cleaning was really needed)"
   ]
  },
  {
   "cell_type": "code",
   "execution_count": 8,
   "id": "46669329",
   "metadata": {},
   "outputs": [
    {
     "name": "stdout",
     "output_type": "stream",
     "text": [
      "red wine DF initial: (1599, 12)\n",
      "white wine DF initial: (4898, 12)\n"
     ]
    }
   ],
   "source": [
    "print(f'red wine DF initial: {df_red.shape}')\n",
    "print(f'white wine DF initial: {df_white.shape}')"
   ]
  },
  {
   "cell_type": "code",
   "execution_count": 9,
   "id": "ca9e7e0b",
   "metadata": {},
   "outputs": [],
   "source": [
    "#drop any null rows\n",
    "df_red = df_red.dropna()\n",
    "df_white = df_white.dropna()"
   ]
  },
  {
   "cell_type": "code",
   "execution_count": 10,
   "id": "861e4ae9",
   "metadata": {},
   "outputs": [
    {
     "name": "stdout",
     "output_type": "stream",
     "text": [
      "red wine DF after dropNA: (1599, 12)\n",
      "white wine DF dropNA: (4898, 12)\n"
     ]
    }
   ],
   "source": [
    "print(f'red wine DF after dropNA: {df_red.shape}')\n",
    "print(f'white wine DF dropNA: {df_white.shape}')"
   ]
  },
  {
   "cell_type": "markdown",
   "id": "c4d31b9d",
   "metadata": {},
   "source": [
    "# train_test_split"
   ]
  },
  {
   "cell_type": "code",
   "execution_count": 11,
   "id": "e5235795",
   "metadata": {},
   "outputs": [],
   "source": [
    "#red wine y-values\n",
    "red_targets = df_red[\"quality\"]\n",
    "\n",
    "#white wine y-values\n",
    "white_targets = df_white[\"quality\"]"
   ]
  },
  {
   "cell_type": "code",
   "execution_count": 12,
   "id": "86da1230",
   "metadata": {},
   "outputs": [],
   "source": [
    "#red wine x-values\n",
    "red_features = df_red.drop(columns=\"quality\")\n",
    "\n",
    "#white wine x-values\n",
    "white_features = df_white.drop(columns=\"quality\")\n"
   ]
  },
  {
   "cell_type": "code",
   "execution_count": 13,
   "id": "0c34b3b1",
   "metadata": {},
   "outputs": [],
   "source": [
    "X_train_red, X_test_red, y_train_red, y_test_red = train_test_split(red_features, red_targets, stratify= red_targets, random_state = 43)\n",
    "\n",
    "X_train_white, X_test_white, y_train_white, y_test_white = train_test_split(white_features, white_targets, stratify= white_targets, random_state = 43)"
   ]
  },
  {
   "cell_type": "code",
   "execution_count": null,
   "id": "94904dd7",
   "metadata": {},
   "outputs": [],
   "source": []
  },
  {
   "cell_type": "markdown",
   "id": "5a79f359",
   "metadata": {},
   "source": [
    "# scale data"
   ]
  },
  {
   "cell_type": "code",
   "execution_count": 14,
   "id": "0c801b7b",
   "metadata": {},
   "outputs": [],
   "source": [
    "X_red_scaler = MinMaxScaler().fit(X_train_red)\n",
    "X_white_scaler = MinMaxScaler().fit(X_train_white)\n",
    "X_train_red_scaled = X_red_scaler.transform(X_train_red)\n",
    "X_train_white_scaled = X_white_scaler.transform(X_train_white)\n",
    "X_test_red_scaled = X_red_scaler.transform(X_test_red)\n",
    "X_test_white_scaled = X_white_scaler.transform(X_test_white)\n",
    "\n",
    "pickle.dump(X_red_scaler, open(\"X_red_scaler.pkl\", \"wb\"))"
   ]
  },
  {
   "cell_type": "markdown",
   "id": "1258191b",
   "metadata": {},
   "source": [
    "# instantiate and train the initial models"
   ]
  },
  {
   "cell_type": "code",
   "execution_count": 15,
   "id": "11b4d703",
   "metadata": {},
   "outputs": [],
   "source": [
    "rf_red = RandomForestClassifier(n_estimators = 100)\n",
    "rf_red = rf_red.fit(X_train_red_scaled, y_train_red)\n",
    "\n",
    "\n"
   ]
  },
  {
   "cell_type": "code",
   "execution_count": 16,
   "id": "32b972e7",
   "metadata": {},
   "outputs": [],
   "source": [
    "rf_white = RandomForestClassifier(n_estimators = 100)\n",
    "rf_white = rf_white.fit(X_train_white_scaled, y_train_white)\n"
   ]
  },
  {
   "cell_type": "markdown",
   "id": "e414e410",
   "metadata": {},
   "source": [
    "# test initial models"
   ]
  },
  {
   "cell_type": "code",
   "execution_count": 18,
   "id": "41bdc136",
   "metadata": {},
   "outputs": [
    {
     "name": "stdout",
     "output_type": "stream",
     "text": [
      "1.0\n",
      "0.71\n"
     ]
    }
   ],
   "source": [
    "rf_red_training_score = rf_red.score(X_train_red_scaled, y_train_red)\n",
    "rf_red_test_score = rf_red.score(X_test_red_scaled, y_test_red)\n",
    "\n",
    "\n",
    "\n",
    "print(rf_red_training_score)\n",
    "print(rf_red_test_score)\n"
   ]
  },
  {
   "cell_type": "code",
   "execution_count": null,
   "id": "aabd9cf5",
   "metadata": {},
   "outputs": [],
   "source": [
    "rf_white_training_score = rf_white.score(X_train_white_scaled, y_train_white)\n",
    "rf_white_test_score = rf_white.score(X_test_white_scaled, y_test_white)\n",
    "\n",
    "print(rf_white_training_score)\n",
    "print(rf_white_test_score)\n"
   ]
  },
  {
   "cell_type": "markdown",
   "id": "bfa0f99c",
   "metadata": {},
   "source": [
    "# grid search to optimize hyperparameters for red wine values"
   ]
  },
  {
   "cell_type": "code",
   "execution_count": null,
   "id": "2e2ec6a2",
   "metadata": {},
   "outputs": [],
   "source": [
    "# Create the GridSearchCV model for red \n",
    "\n",
    "n_estimators = [360, 361, 362, 363, 364, 365, 366]\n",
    "criterion= [\"gini\", \"entropy\"]\n",
    "max_depth = [40, 50, 55, 60, 62, 63, 64, 65, 67, 69, 70]\n",
    "bootstrap = [True, False]\n",
    "param_grid = {\"n_estimators\": n_estimators,\n",
    "              \"criterion\": criterion,\n",
    "              \"max_depth\": max_depth,\n",
    "              \"bootstrap\": bootstrap}\n",
    "\n",
    "red_grid = GridSearchCV(rf_red, param_grid, verbose=3)\n",
    "\n"
   ]
  },
  {
   "cell_type": "code",
   "execution_count": null,
   "id": "9f059869",
   "metadata": {},
   "outputs": [],
   "source": [
    "red_grid.fit(X_train_red_scaled, y_train_red)"
   ]
  },
  {
   "cell_type": "code",
   "execution_count": null,
   "id": "5b4b9ff7",
   "metadata": {},
   "outputs": [],
   "source": [
    "print(f'best parameters are: {red_grid.best_params_}')\n",
    "print(f'best grid training score is: {red_grid.best_score_}')"
   ]
  },
  {
   "cell_type": "code",
   "execution_count": null,
   "id": "3e63b56c",
   "metadata": {},
   "outputs": [],
   "source": [
    "print(f'test data score: {red_grid.score(X_test_red_scaled, y_test_red)}')"
   ]
  },
  {
   "cell_type": "markdown",
   "id": "48f5e44e",
   "metadata": {},
   "source": [
    "# grid search notes for red wine values\n",
    "\n",
    "First grid search: <br>\n",
    "n_estimators = [10, 100, 250] <br>\n",
    "criterion= [\"gini\", \"entropy\"] <br>\n",
    "max_depth = [2, 8, 16, 32, 64] <br>\n",
    "bootstrap = [True, False] <br>\n",
    "best grid training score is: 0.6697350069735006 <br>\n",
    "best parameters are: {'bootstrap': True, 'criterion': 'entropy', 'max_depth': 16, 'n_estimators': 100} <br>\n",
    "best grid training score is: 0.6697350069735006 <br>\n",
    "test data score: 0.7075 <br>\n",
    "\n",
    "\n",
    "Second grid search: <br>\n",
    "n_estimators = [10, 100, 250, 350, 500, 750 ] <br>\n",
    "criterion= [\"gini\", \"entropy\"] <br>\n",
    "max_depth = [2, 8, 16, 32, 64, 250, 500, 1000] <br>\n",
    "bootstrap = [True, False] <br>\n",
    "best parameters are: {'bootstrap': True, 'criterion': 'entropy', 'max_depth': 64, 'n_estimators': 500} <br>\n",
    "best grid training score is: 0.6764086471408646 <br>\n",
    "test data score: 0.7125 <br>\n",
    "\n",
    "Third grid search: <br>\n",
    "n_estimators = [10, 100, 250, 350, 400, 450, 475, 500, 550] <br>\n",
    "criterion= [\"gini\", \"entropy\"] <br>\n",
    "max_depth = [2, 8, 16, 32, 64, 74, 84, 94, 120] <br>\n",
    "bootstrap = [True, False] <br>\n",
    "best parameters are: {'bootstrap': True, 'criterion': 'entropy', 'max_depth': 32, 'n_estimators': 350} <br>\n",
    "best grid training score is: 0.6747350069735006 <br>\n",
    "test data score: 0.7125 <br>\n",
    "\n",
    "Fourth grid search: <br>\n",
    "n_estimators = [250, 275, 300, 350, 375, 400, 425, 450] <br>\n",
    "criterion= [\"entropy\"] <br>\n",
    "max_depth = [16, 32, 36, 40, 44, 52, 58, 64, 74, 84] <br>\n",
    "bootstrap = [True] <br>\n",
    "best parameters are: {'bootstrap': True, 'criterion': 'entropy', 'max_depth': 64, 'n_estimators': 375} <br>\n",
    "best grid training score is: 0.67557880055788 <br>\n",
    "test data score: 0.705 <br>\n",
    "\n",
    "Fifth grid search: <br>\n",
    "n_estimators = [350, 360, 375, 385, 395, 400] <br>\n",
    "criterion= [\"entropy\"] <br>\n",
    "max_depth = [32, 36, 40, 44, 52, 58, 62, 64, 66, 68, 74] <br>\n",
    "bootstrap = [True] <br>\n",
    "best parameters are: {'bootstrap': True, 'criterion': 'entropy', 'max_depth': 44, 'n_estimators': 360} <br>\n",
    "best grid training score is: 0.6755822873082288 <br>\n",
    "test data score: 0.7 <br>\n",
    "\n",
    "Sixth grid search: <br>\n",
    "**This grid search returns the best training score as well as the best test score for the red wine data.** <br>\n",
    "n_estimators = [350, 352, 354, 356, 358, 360, 362, 364, 366, 368, 375, 385] <br>\n",
    "criterion= [\"gini\",\"entropy\"] <br>\n",
    "max_depth = [32, 36, 40, 41, 42,43,44,45,46,47,48,52, 58, 62, 64, 66, 68] <br>\n",
    "bootstrap = [True,False] <br>\n",
    "best parameters are: {'bootstrap': True, 'criterion': 'entropy', 'max_depth': 64, 'n_estimators': 362} <br>\n",
    "best grid training score is: 0.6780718270571826 <br>\n",
    "test data score: 0.7125 <br>\n",
    "\n",
    "\n",
    "\n",
    "Seventh grid search: <br>\n",
    "n_estimators = [355, 360, 361, 362, 363, 364, 365, 366, 370] <br>\n",
    "criterion= [\"entropy\"] <br>\n",
    "max_depth = [30, 35, 40, 45, 50, 55, 60, 65, 70] <br>\n",
    "bootstrap = [True] <br>\n",
    "best parameters are: {'bootstrap': True, 'criterion': 'entropy', 'max_depth': 65, 'n_estimators': 363} <br>\n",
    "best grid training score is: 0.6772454672245467 <br>\n",
    "test data score: 0.71 <br>\n",
    "\n",
    "\n",
    "Eighth grid search: <br>\n",
    "**This grid search as well as the previous one both seem to be overfitting to the training data since the test data accuracies have declined in the past two searches.** <br>\n",
    "n_estimators = [360, 361, 362, 363, 364, 365, 366] <br>\n",
    "criterion= [\"gini\", \"entropy\"] <br>\n",
    "max_depth = [40, 50, 55, 60, 62, 63, 64, 65, 67, 69, 70] <br>\n",
    "bootstrap = [True, False] <br>\n",
    "best parameters are: {'bootstrap': True, 'criterion': 'entropy', 'max_depth': 62, 'n_estimators': 362} <br>\n",
    "best grid training score is: 0.67807880055788 <br>\n",
    "test data score: 0.7075 <br>\n"
   ]
  },
  {
   "cell_type": "markdown",
   "id": "f8697fea",
   "metadata": {},
   "source": [
    "# retraining red model with optimized parameters "
   ]
  },
  {
   "cell_type": "code",
   "execution_count": 40,
   "id": "4b15442a",
   "metadata": {},
   "outputs": [],
   "source": [
    "#instantiate optimized model\n",
    "rf_red_optimized = RandomForestClassifier(n_estimators = 362, max_depth = 64, criterion = 'entropy', bootstrap = True)\n",
    "\n",
    "#train optimized model\n",
    "rf_red_optimized = rf_red_optimized.fit(X_train_red_scaled, y_train_red)\n",
    "\n",
    "#pickling optimized red wine model\n",
    "pickle.dump( rf_red_optimized, open( \"rf_red.pkl\", \"wb\" ) )"
   ]
  },
  {
   "cell_type": "code",
   "execution_count": 41,
   "id": "7f8197ba",
   "metadata": {},
   "outputs": [],
   "source": [
    "predictions = rf_red_optimized.predict(X_test_red_scaled)"
   ]
  },
  {
   "cell_type": "code",
   "execution_count": 42,
   "id": "6472d024",
   "metadata": {},
   "outputs": [
    {
     "data": {
      "text/plain": [
       "array([5, 7, 5, 6, 5, 7, 7, 6, 6, 6, 5, 6, 6, 5, 6, 5, 6, 5, 5, 6, 6, 6,\n",
       "       5, 5, 6, 7, 6, 6, 5, 6, 5, 5, 5, 5, 6, 6, 5, 6, 5, 5, 5, 7, 5, 5,\n",
       "       5, 6, 5, 5, 7, 5, 5, 5, 5, 6, 6, 6, 6, 6, 5, 6, 6, 5, 7, 5, 5, 6,\n",
       "       5, 6, 6, 5, 7, 5, 6, 5, 6, 6, 6, 6, 5, 5, 5, 5, 5, 6, 6, 5, 7, 7,\n",
       "       6, 6, 5, 6, 5, 7, 7, 5, 6, 6, 6, 5, 6, 5, 6, 5, 5, 5, 5, 5, 6, 6,\n",
       "       7, 7, 5, 6, 6, 6, 6, 5, 6, 6, 5, 5, 5, 6, 5, 5, 6, 6, 5, 6, 5, 5,\n",
       "       5, 5, 5, 6, 6, 5, 6, 6, 6, 5, 5, 5, 5, 5, 5, 5, 5, 6, 7, 6, 5, 5,\n",
       "       6, 5, 6, 6, 5, 5, 7, 5, 6, 6, 5, 5, 6, 5, 5, 5, 6, 6, 6, 5, 5, 6,\n",
       "       6, 5, 6, 5, 5, 5, 6, 5, 5, 6, 5, 7, 6, 6, 6, 6, 5, 6, 6, 6, 6, 6,\n",
       "       5, 5, 5, 5, 6, 5, 7, 5, 5, 5, 5, 5, 6, 7, 5, 5, 6, 7, 5, 5, 5, 6,\n",
       "       5, 6, 6, 6, 5, 6, 7, 6, 6, 6, 6, 7, 6, 7, 6, 6, 6, 6, 6, 6, 5, 5,\n",
       "       5, 5, 6, 6, 5, 6, 5, 6, 6, 6, 5, 5, 6, 7, 6, 7, 5, 6, 5, 5, 6, 5,\n",
       "       5, 5, 5, 5, 6, 7, 6, 5, 5, 6, 6, 5, 6, 5, 5, 5, 6, 5, 5, 5, 6, 5,\n",
       "       5, 6, 6, 5, 6, 6, 5, 6, 5, 7, 6, 6, 7, 5, 5, 6, 5, 5, 5, 6, 5, 6,\n",
       "       5, 6, 5, 5, 5, 5, 6, 5, 6, 5, 6, 6, 5, 6, 6, 7, 5, 6, 5, 6, 7, 6,\n",
       "       6, 5, 5, 6, 5, 5, 5, 6, 5, 5, 5, 6, 6, 5, 5, 7, 5, 6, 7, 5, 5, 6,\n",
       "       5, 6, 6, 5, 6, 6, 6, 6, 7, 5, 6, 5, 5, 6, 6, 5, 5, 6, 6, 6, 5, 6,\n",
       "       5, 7, 5, 5, 6, 5, 5, 6, 6, 6, 6, 6, 5, 7, 5, 5, 6, 7, 5, 5, 6, 5,\n",
       "       3, 6, 6, 5], dtype=int64)"
      ]
     },
     "execution_count": 42,
     "metadata": {},
     "output_type": "execute_result"
    }
   ],
   "source": [
    "predictions"
   ]
  },
  {
   "cell_type": "markdown",
   "id": "6bf34592",
   "metadata": {},
   "source": [
    "# grid search to optimize hyperparameters for white wine values"
   ]
  },
  {
   "cell_type": "code",
   "execution_count": null,
   "id": "a2d235fc",
   "metadata": {},
   "outputs": [],
   "source": [
    "# Create the GridSearchCV model for white wine values\n",
    "\n",
    "n_estimators = [750, 800, 850, 900, 950, 1000, 1100, 1250]\n",
    "criterion= [\"gini\", \"entropy\"]\n",
    "max_depth = [15, 35, 45, 50, 65, 75, 95, 105]\n",
    "bootstrap = [True, False]\n",
    "param_grid = {\"n_estimators\":n_estimators,\n",
    "              \"criterion\": criterion,\n",
    "              \"max_depth\": max_depth,\n",
    "              \"bootstrap\": bootstrap}\n",
    "\n",
    "white_grid = GridSearchCV(rf_white, param_grid, verbose=3)\n"
   ]
  },
  {
   "cell_type": "code",
   "execution_count": null,
   "id": "a7b9cbbd",
   "metadata": {},
   "outputs": [],
   "source": [
    "white_grid.fit(X_train_white_scaled, y_train_white)"
   ]
  },
  {
   "cell_type": "code",
   "execution_count": null,
   "id": "9e047efd",
   "metadata": {},
   "outputs": [],
   "source": [
    "print(f'best white parameters are: {white_grid.best_params_}')\n",
    "print(f'best white grid training score is: {white_grid.best_score_}')"
   ]
  },
  {
   "cell_type": "code",
   "execution_count": null,
   "id": "2b16665e",
   "metadata": {},
   "outputs": [],
   "source": [
    "print(f'test data score: {white_grid.score(X_test_white_scaled, y_test_white)}')"
   ]
  },
  {
   "cell_type": "markdown",
   "id": "8b1d3c73",
   "metadata": {},
   "source": [
    "# grid search notes for white wine values\n",
    "\n",
    "first white wine grid search: <br>\n",
    "n_estimators = [100, 250, 500, 750, 1000] <br>\n",
    "criterion= [\"gini\", \"entropy\"] <br>\n",
    "max_depth = [25, 50, 75, 100, 150, 250] <br>\n",
    "bootstrap = [True, False] <br>\n",
    "best white parameters are: {'bootstrap': True, 'criterion': 'entropy', 'max_depth': 25, 'n_estimators': 1000}\n",
    "best white grid training score is: 0.6689469684331499\n",
    "test data score: 0.6971428571428572\n",
    "\n",
    "second white wine grid search: <br>\n",
    "n_estimators = [750, 1000, 1250, 1500, 1750]\n",
    "criterion= [\"gini\", \"entropy\"]\n",
    "max_depth = [15, 20, 25, 30, 35, 40, 45, 50]\n",
    "bootstrap = [True, False]\n",
    "best white parameters are: {'bootstrap': True, 'criterion': 'entropy', 'max_depth': 50, 'n_estimators': 750}\n",
    "best white grid training score is: 0.6705788800533837\n",
    "test data score: 0.6914285714285714\n",
    "\n",
    "third white wine grid search: \n",
    "n_estimators = [750, 800, 850, 900, 950, 1000, 1100, 1250]\n",
    "criterion= [\"gini\", \"entropy\"]\n",
    "max_depth = [15, 35, 45, 50, 65, 75, 95, 105]\n",
    "bootstrap = [True, False]\n",
    "best white parameters are: {'bootstrap': True, 'criterion': 'gini', 'max_depth': 45, 'n_estimators': 850}\n",
    "best white grid training score is: 0.6692179651152014\n",
    "test data score: 0.6979591836734694\n",
    "\n",
    "\n",
    "\n",
    "\n",
    "\n"
   ]
  },
  {
   "cell_type": "markdown",
   "id": "3a16cbb4",
   "metadata": {},
   "source": [
    "# list out most important prediction factors"
   ]
  },
  {
   "cell_type": "code",
   "execution_count": null,
   "id": "cf0eb631",
   "metadata": {},
   "outputs": [],
   "source": [
    "sorted(zip(rf_red.feature_importances_, list(red_features.columns)), reverse=True)"
   ]
  },
  {
   "cell_type": "code",
   "execution_count": null,
   "id": "754f6bbf",
   "metadata": {
    "scrolled": true
   },
   "outputs": [],
   "source": [
    "sorted(zip(rf_white.feature_importances_, list(white_features.columns)), reverse=True)"
   ]
  },
  {
   "cell_type": "markdown",
   "id": "f3a5a280",
   "metadata": {},
   "source": [
    "# create a prediction tool with user input\n",
    "maybe use sliders?\n"
   ]
  },
  {
   "cell_type": "code",
   "execution_count": null,
   "id": "dbadf624",
   "metadata": {},
   "outputs": [],
   "source": [
    "test_input = input(\"alcohol: \")"
   ]
  },
  {
   "cell_type": "code",
   "execution_count": null,
   "id": "d971c024",
   "metadata": {},
   "outputs": [],
   "source": [
    "print(test_input)\n",
    "X_train_red_scaled = X_red_scaler.transform(X_train_red)"
   ]
  },
  {
   "cell_type": "markdown",
   "id": "ebf43fe3",
   "metadata": {},
   "source": [
    "# output confusion matrices"
   ]
  },
  {
   "cell_type": "code",
   "execution_count": null,
   "id": "ae019e07",
   "metadata": {},
   "outputs": [],
   "source": [
    "# red confusion matrix\n",
    "predictions = rf_red.predict(X_test_red_scaled)\n",
    "cm = confusion_matrix(y_test_red, predictions, labels=rf_red.classes_)\n",
    "disp = ConfusionMatrixDisplay(confusion_matrix=cm, display_labels=rf_red.classes_)\n",
    "\n",
    "disp.plot()\n",
    "\n",
    "\n",
    "plt.savefig('model_figures/red_random_forest_confusion.jpg')"
   ]
  },
  {
   "cell_type": "code",
   "execution_count": null,
   "id": "33485f40",
   "metadata": {},
   "outputs": [],
   "source": [
    "# white confusion matrix\n",
    "\n",
    "predictions = rf_white.predict(X_test_white_scaled)\n",
    "cm = confusion_matrix(y_test_white, predictions, labels=rf_white.classes_)\n",
    "disp = ConfusionMatrixDisplay(confusion_matrix=cm, display_labels=rf_white.classes_)\n",
    "\n",
    "disp.plot()\n",
    "\n",
    "\n",
    "plt.savefig('model_figures/white_random_forest_confusion.jpg')"
   ]
  },
  {
   "cell_type": "code",
   "execution_count": null,
   "id": "7a45e71f",
   "metadata": {},
   "outputs": [],
   "source": []
  }
 ],
 "metadata": {
  "kernelspec": {
   "display_name": "Python 3",
   "language": "python",
   "name": "python3"
  },
  "language_info": {
   "codemirror_mode": {
    "name": "ipython",
    "version": 3
   },
   "file_extension": ".py",
   "mimetype": "text/x-python",
   "name": "python",
   "nbconvert_exporter": "python",
   "pygments_lexer": "ipython3",
   "version": "3.8.8"
  }
 },
 "nbformat": 4,
 "nbformat_minor": 5
}
