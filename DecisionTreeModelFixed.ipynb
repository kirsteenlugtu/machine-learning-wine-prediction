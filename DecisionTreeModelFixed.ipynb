{
 "cells": [
  {
   "cell_type": "markdown",
   "id": "87f61161",
   "metadata": {},
   "source": [
    "# Import libraries"
   ]
  },
  {
   "cell_type": "code",
   "execution_count": null,
   "id": "90b3112e",
   "metadata": {},
   "outputs": [],
   "source": [
    "from sklearn import tree\n",
    "import pandas as pd\n",
    "import numpy as np\n",
    "from sklearn.tree import DecisionTreeClassifier\n",
    "from sklearn.model_selection import train_test_split\n",
    "from matplotlib import pyplot as plt\n",
    "from sklearn.datasets import make_classification\n",
    "from sklearn.metrics import confusion_matrix, ConfusionMatrixDisplay"
   ]
  },
  {
   "cell_type": "markdown",
   "id": "8b7eeee1",
   "metadata": {},
   "source": [
    "# Import Data"
   ]
  },
  {
   "cell_type": "code",
   "execution_count": null,
   "id": "116c6b4f",
   "metadata": {},
   "outputs": [],
   "source": [
    "red_df = pd.read_csv(\"Data/winequality-red.csv\", delimiter=\",\")\n",
    "white_df = pd.read_csv(\"Data/winequality-white.csv\", delimiter=\",\")  "
   ]
  },
  {
   "cell_type": "code",
   "execution_count": null,
   "id": "aed7c7d1",
   "metadata": {},
   "outputs": [],
   "source": [
    "red_df.head()\n",
    "#red_df['quality'].value_counts()"
   ]
  },
  {
   "cell_type": "code",
   "execution_count": null,
   "id": "bbe6fd71",
   "metadata": {},
   "outputs": [],
   "source": [
    "white_df.head()\n",
    "#white_df['quality'].value_counts()"
   ]
  },
  {
   "cell_type": "markdown",
   "id": "0a36361f",
   "metadata": {},
   "source": [
    "# Train Test Split"
   ]
  },
  {
   "cell_type": "code",
   "execution_count": null,
   "id": "018af47e",
   "metadata": {},
   "outputs": [],
   "source": [
    "red_X = red_df.drop(columns = \"quality\")\n",
    "white_X = white_df.drop(columns = \"quality\")"
   ]
  },
  {
   "cell_type": "code",
   "execution_count": null,
   "id": "cfcf5cd3",
   "metadata": {},
   "outputs": [],
   "source": [
    "red_y = red_df[\"quality\"]\n",
    "white_y = white_df[\"quality\"]"
   ]
  },
  {
   "cell_type": "code",
   "execution_count": null,
   "id": "73285a64",
   "metadata": {},
   "outputs": [],
   "source": [
    "X_train_red, X_test_red, y_train_red, y_test_red = train_test_split(red_X, red_y, stratify=red_y, random_state=42)\n",
    "X_train_white, X_test_white, y_train_white, y_test_white = train_test_split(white_X, white_y, stratify=white_y, random_state=42)"
   ]
  },
  {
   "cell_type": "code",
   "execution_count": null,
   "id": "6330d0ae",
   "metadata": {},
   "outputs": [],
   "source": [
    "number_list = np.array(y_train_white)\n",
    "(unique, counts) = np.unique(number_list, return_counts=True)\n",
    "frequencies = np.asarray((unique, counts)).T\n",
    "frequencies"
   ]
  },
  {
   "cell_type": "code",
   "execution_count": null,
   "id": "ac1ec18f",
   "metadata": {},
   "outputs": [],
   "source": [
    "number_list = np.array(y_test_white)\n",
    "(unique, counts) = np.unique(number_list, return_counts=True)\n",
    "frequencies = np.asarray((unique, counts)).T\n",
    "frequencies"
   ]
  },
  {
   "cell_type": "markdown",
   "id": "0b06e01c",
   "metadata": {},
   "source": [
    "# Decision Tree Model"
   ]
  },
  {
   "cell_type": "code",
   "execution_count": null,
   "id": "b527e7b7",
   "metadata": {},
   "outputs": [],
   "source": [
    "# Red wine\n",
    "red_clf = DecisionTreeClassifier()\n",
    "red_clf = red_clf.fit(X_train_red, y_train_red)\n",
    "red_clf.score(X_train_red, y_train_red)"
   ]
  },
  {
   "cell_type": "code",
   "execution_count": null,
   "id": "37bf2e30",
   "metadata": {},
   "outputs": [],
   "source": [
    "red_clf.score(X_test_red, y_test_red)"
   ]
  },
  {
   "cell_type": "code",
   "execution_count": null,
   "id": "0ff67d4f",
   "metadata": {},
   "outputs": [],
   "source": [
    "# White wine\n",
    "white_clf = DecisionTreeClassifier()\n",
    "white_clf = white_clf.fit(X_train_white, y_train_white)\n",
    "white_clf.score(X_train_white, y_train_white)"
   ]
  },
  {
   "cell_type": "code",
   "execution_count": null,
   "id": "d93c205e",
   "metadata": {},
   "outputs": [],
   "source": [
    "white_clf.score(X_test_white, y_test_white)"
   ]
  },
  {
   "cell_type": "markdown",
   "id": "3735556a",
   "metadata": {},
   "source": [
    "# Print Text Representation"
   ]
  },
  {
   "cell_type": "code",
   "execution_count": null,
   "id": "d678fb39",
   "metadata": {},
   "outputs": [],
   "source": [
    "# Red wine\n",
    "text_representation = tree.export_text(red_clf)\n",
    "print(text_representation)"
   ]
  },
  {
   "cell_type": "code",
   "execution_count": null,
   "id": "302760a8",
   "metadata": {},
   "outputs": [],
   "source": [
    "# White wine\n",
    "text_representation = tree.export_text(white_clf)\n",
    "print(text_representation)"
   ]
  },
  {
   "cell_type": "markdown",
   "id": "28d1c003",
   "metadata": {},
   "source": [
    "# Plot the Trees"
   ]
  },
  {
   "cell_type": "code",
   "execution_count": null,
   "id": "8c2b4ae6",
   "metadata": {
    "scrolled": true
   },
   "outputs": [],
   "source": [
    "# Red wine\n",
    "#fig = plt.figure(figsize=(50, 50))\n",
    "#tree.plot_tree(red_clf, filled=True)\n",
    "#plt.savefig('red_decision_tree.png', dpi=250)\n",
    "#plt.show()"
   ]
  },
  {
   "cell_type": "code",
   "execution_count": null,
   "id": "54355964",
   "metadata": {},
   "outputs": [],
   "source": [
    "# White wine\n",
    "#fig = plt.figure(figsize=(50, 50))\n",
    "#tree.plot_tree(white_clf, filled=True)\n",
    "#plt.savefig('white_decision_tree.png', dpi=250)\n",
    "#plt.show()"
   ]
  },
  {
   "cell_type": "markdown",
   "id": "b52956d1",
   "metadata": {},
   "source": [
    "# Confusion Matrix"
   ]
  },
  {
   "cell_type": "code",
   "execution_count": null,
   "id": "fb1cd2b5",
   "metadata": {
    "scrolled": true
   },
   "outputs": [],
   "source": [
    "#import seaborn as sns\n",
    "#from sklearn.metrics import confusion_matrix\n",
    "#sns.heatmap(confusion_matrix(y_test_red, red_clf.predict(X_test_red)), annot = True, fmt=\"d\")"
   ]
  },
  {
   "cell_type": "code",
   "execution_count": null,
   "id": "b7a044c9",
   "metadata": {},
   "outputs": [],
   "source": [
    "# Red Wine\n",
    "predictions = red_clf.predict(X_test_red)\n",
    "cm = confusion_matrix(y_test_red, predictions, labels=red_clf.classes_)\n",
    "disp = ConfusionMatrixDisplay(confusion_matrix=cm,\n",
    "                              display_labels=red_clf.classes_)\n",
    "disp.plot()\n",
    "\n",
    "plt.show()"
   ]
  },
  {
   "cell_type": "code",
   "execution_count": null,
   "id": "ab68b895",
   "metadata": {},
   "outputs": [],
   "source": [
    "# White wine\n",
    "predictions = white_clf.predict(X_test_white)\n",
    "cm = confusion_matrix(y_test_white, predictions, labels=white_clf.classes_)\n",
    "disp = ConfusionMatrixDisplay(confusion_matrix=cm,\n",
    "                              display_labels=white_clf.classes_)\n",
    "disp.plot()\n",
    "\n",
    "plt.show()\n"
   ]
  },
  {
   "cell_type": "code",
   "execution_count": null,
   "id": "7adc7132",
   "metadata": {},
   "outputs": [],
   "source": []
  }
 ],
 "metadata": {
  "kernelspec": {
   "display_name": "Python 3",
   "language": "python",
   "name": "python3"
  },
  "language_info": {
   "codemirror_mode": {
    "name": "ipython",
    "version": 3
   },
   "file_extension": ".py",
   "mimetype": "text/x-python",
   "name": "python",
   "nbconvert_exporter": "python",
   "pygments_lexer": "ipython3",
   "version": "3.8.8"
  }
 },
 "nbformat": 4,
 "nbformat_minor": 5
}
