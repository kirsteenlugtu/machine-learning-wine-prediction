{
 "cells": [
  {
   "cell_type": "markdown",
   "id": "187ce555",
   "metadata": {},
   "source": [
    "# Import libraries"
   ]
  },
  {
   "cell_type": "code",
   "execution_count": null,
   "id": "5550e071",
   "metadata": {},
   "outputs": [],
   "source": [
    "# Update sklearn to prevent version mismatches\n",
    "# !pip install sklearn --upgrade"
   ]
  },
  {
   "cell_type": "code",
   "execution_count": null,
   "id": "42729826",
   "metadata": {},
   "outputs": [],
   "source": [
    "import pandas as pd\n",
    "from sklearn.model_selection import train_test_split, GridSearchCV\n",
    "import numpy as np\n",
    "from sklearn.preprocessing import MinMaxScaler, StandardScaler\n",
    "from tensorflow.keras.utils import to_categorical\n",
    "from tensorflow.keras.models import Sequential\n",
    "from tensorflow.keras.layers import Dense\n",
    "from tensorflow.keras.wrappers.scikit_learn import KerasClassifier\n",
    "import matplotlib.pyplot as plt\n",
    "from sklearn.metrics import confusion_matrix, ConfusionMatrixDisplay"
   ]
  },
  {
   "cell_type": "markdown",
   "id": "df196242",
   "metadata": {},
   "source": [
    "# Import data"
   ]
  },
  {
   "cell_type": "code",
   "execution_count": null,
   "id": "cc546452",
   "metadata": {},
   "outputs": [],
   "source": [
    "df_red = pd.read_csv(\"Data/winequality-red.csv\")\n",
    "df_white = pd.read_csv(\"Data/winequality-white.csv\")              \n"
   ]
  },
  {
   "cell_type": "code",
   "execution_count": null,
   "id": "a0c9c1b8",
   "metadata": {},
   "outputs": [],
   "source": [
    "df_red.head()"
   ]
  },
  {
   "cell_type": "code",
   "execution_count": null,
   "id": "0e5be7d2",
   "metadata": {},
   "outputs": [],
   "source": [
    "df_white.head()"
   ]
  },
  {
   "cell_type": "markdown",
   "id": "ca6c16c8",
   "metadata": {},
   "source": [
    "# clean data \n",
    "(turns out no cleaning was really needed)"
   ]
  },
  {
   "cell_type": "code",
   "execution_count": null,
   "id": "c5e4948c",
   "metadata": {},
   "outputs": [],
   "source": [
    "print(f'red wine DF initial: {df_red.shape}')\n",
    "print(f'white wine DF initial: {df_white.shape}')"
   ]
  },
  {
   "cell_type": "code",
   "execution_count": null,
   "id": "26e5abc8",
   "metadata": {},
   "outputs": [],
   "source": [
    "#drop any null rows\n",
    "df_red = df_red.dropna()\n",
    "df_white = df_white.dropna()"
   ]
  },
  {
   "cell_type": "code",
   "execution_count": null,
   "id": "2732b15c",
   "metadata": {},
   "outputs": [],
   "source": [
    "print(f'red wine DF after dropNA: {df_red.shape}')\n",
    "print(f'white wine DF dropNA: {df_white.shape}')"
   ]
  },
  {
   "cell_type": "code",
   "execution_count": null,
   "id": "e635ec66",
   "metadata": {},
   "outputs": [],
   "source": [
    "\n",
    "red_labels_count = np.unique(df_red['quality'])\n",
    "white_labels_count = np.unique(df_white['quality'])\n",
    "print(f'red wine unique quality ratings recorded: {red_labels_count}')\n",
    "print(f'white wine unique quality ratings recorded: {white_labels_count}')"
   ]
  },
  {
   "cell_type": "markdown",
   "id": "02a0cd18",
   "metadata": {},
   "source": [
    "#### Interesting to note that neither the red nor the white datasets contain wines with all possible ratings ( to 10)"
   ]
  },
  {
   "cell_type": "markdown",
   "id": "17fca60f",
   "metadata": {},
   "source": [
    "# train_test_split"
   ]
  },
  {
   "cell_type": "code",
   "execution_count": null,
   "id": "45d6c63b",
   "metadata": {},
   "outputs": [],
   "source": [
    "#red wine y-values\n",
    "red_targets = df_red[\"quality\"]\n",
    "\n",
    "#white wine y-values\n",
    "white_targets =df_white[\"quality\"]"
   ]
  },
  {
   "cell_type": "code",
   "execution_count": null,
   "id": "839ecf13",
   "metadata": {},
   "outputs": [],
   "source": [
    "#red wine x-values\n",
    "red_features = df_red.drop(columns=\"quality\")\n",
    "\n",
    "#white wine x-values\n",
    "white_features = df_white.drop(columns=\"quality\")\n"
   ]
  },
  {
   "cell_type": "code",
   "execution_count": null,
   "id": "7cc94c56",
   "metadata": {},
   "outputs": [],
   "source": [
    "X_train_red, X_test_red, y_train_red, y_test_red = train_test_split(red_features, red_targets, random_state = 43)\n",
    "\n",
    "X_train_white, X_test_white, y_train_white, y_test_white = train_test_split(white_features, white_targets, random_state = 43)"
   ]
  },
  {
   "cell_type": "code",
   "execution_count": null,
   "id": "a6066070",
   "metadata": {},
   "outputs": [],
   "source": [
    "#checking category freqencies\n",
    "train_number_list = np.array(y_train_red)\n",
    "(unique, counts) = np.unique(train_number_list, return_counts=True)\n",
    "train_frequencies = np.asarray((unique, counts)).T\n",
    "\n",
    "\n",
    "test_number_list = np.array(y_test_red)\n",
    "(unique_test, counts_test) = np.unique(test_number_list, return_counts=True)\n",
    "test_frequencies = np.asarray((unique_test, counts_test)).T\n",
    "\n",
    "print(\"train category freqencies\")\n",
    "print(train_frequencies)\n",
    "print(\"test category frequencies\")\n",
    "print(test_frequencies)\n"
   ]
  },
  {
   "cell_type": "markdown",
   "id": "633ccb29",
   "metadata": {},
   "source": [
    "# One hot encode y-values\n",
    "\n",
    "Note that the red hot encoded values have 9 positions and the white ones have 10 positions. This is because the max quality value in the red data set is 8 and the max value in the white set is 9. See above for an example of this.  "
   ]
  },
  {
   "cell_type": "code",
   "execution_count": null,
   "id": "ead35aa4",
   "metadata": {},
   "outputs": [],
   "source": [
    "oh_y_train_red = to_categorical(y_train_red)\n",
    "oh_y_test_red = to_categorical(y_test_red)\n",
    "oh_y_train_white = to_categorical(y_train_white)\n",
    "oh_y_test_white = to_categorical(y_test_white)\n",
    "\n",
    "print(oh_y_train_red[1])\n",
    "print(oh_y_test_red[1])\n",
    "print(oh_y_train_white[1])\n",
    "print(oh_y_test_white[1])"
   ]
  },
  {
   "cell_type": "markdown",
   "id": "846d6b37",
   "metadata": {},
   "source": [
    "# scale data"
   ]
  },
  {
   "cell_type": "code",
   "execution_count": null,
   "id": "25a96433",
   "metadata": {},
   "outputs": [],
   "source": [
    "X_red_scaler = MinMaxScaler().fit(X_train_red)\n",
    "X_white_scaler = MinMaxScaler().fit(X_train_white)\n",
    "X_train_red_scaled = X_red_scaler.transform(X_train_red)\n",
    "X_train_white_scaled = X_white_scaler.transform(X_train_white)\n",
    "X_test_red_scaled = X_red_scaler.transform(X_test_red)\n",
    "X_test_white_scaled = X_white_scaler.transform(X_test_white)"
   ]
  },
  {
   "cell_type": "markdown",
   "id": "2e481b93",
   "metadata": {},
   "source": [
    "# instantiate and train the model\n",
    "\n",
    "accuracy results without specifiying a \"stratify\" parameter:  <br>\n",
    "red model accuracy: 0.6399999856948853 <br>\n",
    "white model accuracy: 0.5493877530097961 <br>\n",
    "\n",
    "accuracy results with \"stratify\" parameter:  <br>\n",
    "red model accuracy: 0.4399999976158142   <br>\n",
    "white model accuracy: 0.44897958636283875  <br>\n",
    "\n",
    "Surprisingly, running the model with the stratify parameter returns much worse results for both red wine and white wine data.\n"
   ]
  },
  {
   "cell_type": "code",
   "execution_count": null,
   "id": "1d004d0b",
   "metadata": {},
   "outputs": [],
   "source": [
    "red_features_count = len(red_features.columns)\n",
    "\n",
    "\n",
    "#ouput layer units needs to be set to 9 because max score in the red dataset is \"8\"\n",
    "\n",
    "def create_red_model():\n",
    "    model = Sequential()\n",
    "    model.add(Dense(units = 20, activation = \"relu\", input_dim = red_features_count))\n",
    "    model.add(Dense(units = 9, activation = \"softmax\"))\n",
    "    model.compile(optimizer = \"adam\", loss = 'categorical_crossentropy', metrics = ['accuracy'])\n",
    "    return model\n",
    "\n",
    "# adding the Keras wrapper to support interaction with SKLearn\n",
    "red_model = KerasClassifier(build_fn = create_red_model, epochs=100, batch_size =10)\n",
    "\n",
    "\n"
   ]
  },
  {
   "cell_type": "code",
   "execution_count": null,
   "id": "034917d9",
   "metadata": {},
   "outputs": [],
   "source": [
    "red_model.fit(X_train_red_scaled, oh_y_train_red, epochs = 100, shuffle= True, verbose = 4)"
   ]
  },
  {
   "cell_type": "code",
   "execution_count": null,
   "id": "3ccaac07",
   "metadata": {},
   "outputs": [],
   "source": [
    "white_features_count = len(white_features.columns)\n",
    "\n",
    "#ouput layer units needs to be set to 10 because max quality score in the white dataset is \"9\"\n",
    "\n",
    "def create_white_model():\n",
    "    model = Sequential()\n",
    "    model.add(Dense(units = 20, activation = \"relu\", input_dim = white_features_count))\n",
    "    model.add(Dense(units = 10, activation = \"softmax\"))\n",
    "    model.compile(optimizer = \"adam\", loss = 'categorical_crossentropy', metrics = ['accuracy'])\n",
    "    return model\n",
    "\n",
    "# adding the Keras wrapper to support interaction with SKLearn\n",
    "white_model = KerasClassifier(build_fn = create_white_model, epochs=100, batch_size =10)\n",
    "\n",
    "\n",
    "\n"
   ]
  },
  {
   "cell_type": "code",
   "execution_count": null,
   "id": "bac55abc",
   "metadata": {},
   "outputs": [],
   "source": [
    "white_model.fit(X_train_white_scaled, oh_y_train_white, epochs = 100, shuffle= True, verbose = 4)"
   ]
  },
  {
   "cell_type": "markdown",
   "id": "af47a689",
   "metadata": {},
   "source": [
    "# test models"
   ]
  },
  {
   "cell_type": "code",
   "execution_count": null,
   "id": "ce3319e6",
   "metadata": {},
   "outputs": [],
   "source": [
    "red_model_accuracy = red_model.score(X_test_red_scaled, oh_y_test_red, verbose= 3)\n",
    "\n",
    "print(f'red model accuracy: {red_model_accuracy}')"
   ]
  },
  {
   "cell_type": "code",
   "execution_count": null,
   "id": "efe6e7e7",
   "metadata": {},
   "outputs": [],
   "source": [
    "white_model_accuracy = white_model.score(X_test_white_scaled, oh_y_test_white, verbose= 3)\n",
    "\n",
    "print(f'white model accuracy: {white_model_accuracy}')"
   ]
  },
  {
   "cell_type": "markdown",
   "id": "9ab0776e",
   "metadata": {},
   "source": [
    "# output confusion matrices"
   ]
  },
  {
   "cell_type": "code",
   "execution_count": null,
   "id": "d966cbe8",
   "metadata": {},
   "outputs": [],
   "source": [
    "# red confusion matrix\n",
    "\n",
    "import matplotlib.pyplot as plt\n",
    "from sklearn.metrics import confusion_matrix, ConfusionMatrixDisplay\n",
    "\n",
    "red_predictions = red_model.predict(X_test_red_scaled)\n",
    "cm = confusion_matrix(y_test_red, red_predictions, labels=red_model.classes_)\n",
    "disp = ConfusionMatrixDisplay(confusion_matrix=cm, display_labels=red_model.classes_)\n",
    "\n",
    "disp.plot()\n",
    "\n",
    "\n",
    "plt.savefig('model_figures/red_neural_network_confusion.jpg')\n"
   ]
  },
  {
   "cell_type": "code",
   "execution_count": null,
   "id": "30976e6a",
   "metadata": {},
   "outputs": [],
   "source": [
    "# white confusion matrix\n",
    "\n",
    "white_predictions = white_model.predict(X_test_white_scaled)\n",
    "cm = confusion_matrix(y_test_white, white_predictions, labels= white_model.classes_)\n",
    "disp = ConfusionMatrixDisplay(confusion_matrix=cm, display_labels= white_model.classes_)\n",
    "\n",
    "# disp.xaxis.label.set_color('red')\n",
    "disp.plot()\n",
    "\n",
    "\n",
    "plt.savefig('model_figures/white_neural_network_confusion.jpg')\n"
   ]
  },
  {
   "cell_type": "code",
   "execution_count": null,
   "id": "09f3d5bd",
   "metadata": {},
   "outputs": [],
   "source": []
  }
 ],
 "metadata": {
  "kernelspec": {
   "display_name": "Python 3",
   "language": "python",
   "name": "python3"
  },
  "language_info": {
   "codemirror_mode": {
    "name": "ipython",
    "version": 3
   },
   "file_extension": ".py",
   "mimetype": "text/x-python",
   "name": "python",
   "nbconvert_exporter": "python",
   "pygments_lexer": "ipython3",
   "version": "3.8.8"
  }
 },
 "nbformat": 4,
 "nbformat_minor": 5
}
