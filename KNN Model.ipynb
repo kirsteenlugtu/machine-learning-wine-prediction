{
 "cells": [
  {
   "cell_type": "markdown",
   "id": "23792f30",
   "metadata": {},
   "source": [
    "# Import Libraries"
   ]
  },
  {
   "cell_type": "code",
   "execution_count": null,
   "id": "609c023d",
   "metadata": {
    "scrolled": true
   },
   "outputs": [],
   "source": [
    "# Update sklearn to prevent version mismatches\n",
    "!pip install sklearn --upgrade"
   ]
  },
  {
   "cell_type": "code",
   "execution_count": null,
   "id": "9f36eabf",
   "metadata": {},
   "outputs": [],
   "source": [
    "import matplotlib.pyplot as plt\n",
    "from sklearn.datasets import load_iris\n",
    "from sklearn.model_selection import train_test_split\n",
    "from sklearn.neighbors import KNeighborsClassifier\n",
    "import pandas as pd\n",
    "import numpy as np"
   ]
  },
  {
   "cell_type": "code",
   "execution_count": null,
   "id": "f0662b4a",
   "metadata": {},
   "outputs": [],
   "source": [
    "#import wine CSVs\n",
    "red_csv = \"Data/winequality-red.csv\"\n",
    "white_csv = \"Data/winequality-white.csv\""
   ]
  },
  {
   "cell_type": "code",
   "execution_count": null,
   "id": "44eb9c99",
   "metadata": {},
   "outputs": [],
   "source": [
    "red = pd.read_csv(red_csv)\n",
    "white= pd.read_csv(white_csv)\n",
    "\n",
    "red.head()"
   ]
  },
  {
   "cell_type": "markdown",
   "id": "925cf8e4",
   "metadata": {},
   "source": [
    "# Scale Red Wine Data "
   ]
  },
  {
   "cell_type": "code",
   "execution_count": null,
   "id": "adb21de9",
   "metadata": {},
   "outputs": [],
   "source": [
    "#assign data to X and y\n",
    "red_X = red[[\"fixed acidity\", \"volatile acidity\", \"citric acid\", \"residual sugar\", \"chlorides\", \"free sulfur dioxide\", \"total sulfur dioxide\", \"density\", \"pH\", \"sulphates\", \"alcohol\"]]\n",
    "red_y = red[\"quality\"].values.reshape(-1, 1)\n",
    "print(red_X.shape, red_y.shape)"
   ]
  },
  {
   "cell_type": "code",
   "execution_count": null,
   "id": "3adcbfc2",
   "metadata": {},
   "outputs": [],
   "source": [
    "#train test split\n",
    "from sklearn.model_selection import train_test_split\n",
    "\n",
    "redX_train, redX_test, redy_train, redy_test = train_test_split(red_X, red_y, stratify=red_y, random_state=42)"
   ]
  },
  {
   "cell_type": "code",
   "execution_count": null,
   "id": "bc1bf4aa",
   "metadata": {},
   "outputs": [],
   "source": [
    "#scale Data\n",
    "from sklearn.preprocessing import StandardScaler\n",
    "\n",
    "# Create a StandardScater model and fit it to the training data\n",
    "redX_scaler = StandardScaler().fit(redX_train)"
   ]
  },
  {
   "cell_type": "code",
   "execution_count": null,
   "id": "19950e5b",
   "metadata": {},
   "outputs": [],
   "source": [
    "# Transform the training and testing data using the X_scaler and y_scaler models\n",
    "redX_train_scaled = redX_scaler.transform(redX_train)\n",
    "redX_test_scaled = redX_scaler.transform(redX_test)"
   ]
  },
  {
   "cell_type": "code",
   "execution_count": null,
   "id": "1c00ea43",
   "metadata": {},
   "outputs": [],
   "source": [
    "number_list = np.array(redy_train)\n",
    "\n",
    "(unique, counts) = np.unique(number_list, return_counts=True)\n",
    "frequencies = np.asarray((unique, counts)).T\n",
    "\n",
    "frequencies"
   ]
  },
  {
   "cell_type": "code",
   "execution_count": null,
   "id": "ed88333d",
   "metadata": {},
   "outputs": [],
   "source": [
    "number_list = np.array(redy_test)\n",
    "\n",
    "(unique, counts) = np.unique(number_list, return_counts=True)\n",
    "frequencies = np.asarray((unique, counts)).T\n",
    "\n",
    "frequencies"
   ]
  },
  {
   "cell_type": "markdown",
   "id": "fca0a5c4",
   "metadata": {},
   "source": [
    "# K Nearest Neighbors - Red"
   ]
  },
  {
   "cell_type": "code",
   "execution_count": null,
   "id": "53887353",
   "metadata": {},
   "outputs": [],
   "source": [
    "# Loop through different k values to see which has the highest accuracy\n",
    "# Note: We only use odd numbers because we don't want any ties\n",
    "train_scores = []\n",
    "test_scores = []\n",
    "for k in range(1, 50, 3):\n",
    "    knn = KNeighborsClassifier(n_neighbors=k)\n",
    "    knn.fit(redX_train_scaled, redy_train.ravel())\n",
    "    train_score = knn.score(redX_train_scaled, redy_train)\n",
    "    test_score = knn.score(redX_test_scaled, redy_test)\n",
    "    train_scores.append(train_score)\n",
    "    test_scores.append(test_score)\n",
    "    print(f\"k: {k}, Train/Test Score: {train_score:.3f}/{test_score:.3f}\")\n",
    "    \n",
    "    \n",
    "plt.plot(range(1, 50, 3), train_scores, marker='o')\n",
    "plt.plot(range(1, 50, 3), test_scores, marker=\"x\")\n",
    "plt.xlabel(\"k neighbors\")\n",
    "plt.ylabel(\"Quality\")\n",
    "\n",
    "plt.savefig(\"Red Wine KNN plot\"+'.jpg')\n",
    "plt.show()"
   ]
  },
  {
   "cell_type": "code",
   "execution_count": null,
   "id": "3505a0d6",
   "metadata": {},
   "outputs": [],
   "source": [
    "import matplotlib.pyplot as plt\n",
    "from sklearn.datasets import make_classification\n",
    "from sklearn.metrics import confusion_matrix, ConfusionMatrixDisplay\n",
    "from sklearn.svm import SVC\n",
    "\n",
    "knn = KNeighborsClassifier(n_neighbors=k)\n",
    "knn.fit(redX_train_scaled, redy_train.ravel())\n",
    "\n",
    "predictions = knn.predict(redX_test_scaled)\n",
    "cm = confusion_matrix(redy_test, predictions, labels=knn.classes_)\n",
    "disp = ConfusionMatrixDisplay(confusion_matrix=cm,\n",
    "                              display_labels=knn.classes_)\n",
    "disp.plot()\n",
    "\n",
    "plt.savefig(\"Red Wine KNN Matrix\"+'.jpg')\n",
    "\n",
    "plt.show()"
   ]
  },
  {
   "cell_type": "code",
   "execution_count": null,
   "id": "80ca5181",
   "metadata": {},
   "outputs": [],
   "source": []
  },
  {
   "cell_type": "code",
   "execution_count": null,
   "id": "a5d41377",
   "metadata": {},
   "outputs": [],
   "source": []
  },
  {
   "cell_type": "markdown",
   "id": "d87c4a10",
   "metadata": {},
   "source": [
    "# Scale White Wine Data"
   ]
  },
  {
   "cell_type": "code",
   "execution_count": null,
   "id": "c20730b9",
   "metadata": {},
   "outputs": [],
   "source": [
    "#assign data to X and y\n",
    "\n",
    "white_X = white[[\"fixed acidity\", \"volatile acidity\", \"citric acid\", \"residual sugar\", \"chlorides\", \"free sulfur dioxide\", \"total sulfur dioxide\", \"density\", \"pH\", \"sulphates\", \"alcohol\"]]\n",
    "white_y = white[\"quality\"].values.reshape(-1, 1)\n",
    "print(white_X.shape, white_y.shape)"
   ]
  },
  {
   "cell_type": "code",
   "execution_count": null,
   "id": "c75cfa93",
   "metadata": {},
   "outputs": [],
   "source": [
    "#train test split\n",
    "from sklearn.model_selection import train_test_split\n",
    "\n",
    "whiteX_train, whiteX_test, whitey_train, whitey_test = train_test_split(white_X, white_y, stratify=white_y, random_state=42)"
   ]
  },
  {
   "cell_type": "code",
   "execution_count": null,
   "id": "79210551",
   "metadata": {},
   "outputs": [],
   "source": [
    "#scale Data\n",
    "from sklearn.preprocessing import StandardScaler\n",
    "\n",
    "# Create a StandardScater model and fit it to the training data\n",
    "\n",
    "whiteX_scaler = StandardScaler().fit(whiteX_train)"
   ]
  },
  {
   "cell_type": "code",
   "execution_count": null,
   "id": "f6e09b62",
   "metadata": {},
   "outputs": [],
   "source": [
    "# Transform the training and testing data using the X_scaler and y_scaler models\n",
    "\n",
    "whiteX_train_scaled = whiteX_scaler.transform(whiteX_train)\n",
    "whiteX_test_scaled = whiteX_scaler.transform(whiteX_test)"
   ]
  },
  {
   "cell_type": "code",
   "execution_count": null,
   "id": "8136ea01",
   "metadata": {},
   "outputs": [],
   "source": [
    "number_list = np.array(whitey_train)\n",
    "\n",
    "(unique, counts) = np.unique(number_list, return_counts=True)\n",
    "frequencies = np.asarray((unique, counts)).T\n",
    "\n",
    "frequencies"
   ]
  },
  {
   "cell_type": "code",
   "execution_count": null,
   "id": "3fd954a3",
   "metadata": {},
   "outputs": [],
   "source": [
    "number_list = np.array(whitey_test)\n",
    "\n",
    "(unique, counts) = np.unique(number_list, return_counts=True)\n",
    "frequencies = np.asarray((unique, counts)).T\n",
    "\n",
    "frequencies"
   ]
  },
  {
   "cell_type": "markdown",
   "id": "e1eaa200",
   "metadata": {},
   "source": [
    "# K Nearest Neighbors - White"
   ]
  },
  {
   "cell_type": "code",
   "execution_count": null,
   "id": "85819fc2",
   "metadata": {
    "scrolled": true
   },
   "outputs": [],
   "source": [
    "# Loop through different k values to see which has the highest accuracy\n",
    "# Note: We only use odd numbers because we don't want any ties\n",
    "train_scores = []\n",
    "test_scores = []\n",
    "for k in range(1, 50, 5):\n",
    "    knn = KNeighborsClassifier(n_neighbors=k)\n",
    "    knn.fit(whiteX_train_scaled, whitey_train.ravel())\n",
    "    train_score = knn.score(whiteX_train_scaled, whitey_train)\n",
    "    test_score = knn.score(whiteX_test_scaled, whitey_test)\n",
    "    train_scores.append(train_score)\n",
    "    test_scores.append(test_score)\n",
    "    print(f\"k: {k}, Train/Test Score: {train_score:.3f}/{test_score:.3f}\")\n",
    "    \n",
    "    \n",
    "plt.plot(range(1, 50, 5), train_scores, marker='o')\n",
    "plt.plot(range(1, 50, 5), test_scores, marker=\"x\")\n",
    "plt.xlabel(\"k neighbors\")\n",
    "plt.ylabel(\"Quality\")\n",
    "\n",
    "plt.savefig(\"White Wine KNN plot\"+'.jpg')\n",
    "plt.show()"
   ]
  },
  {
   "cell_type": "code",
   "execution_count": null,
   "id": "e125644f",
   "metadata": {},
   "outputs": [],
   "source": [
    "import matplotlib.pyplot as plt\n",
    "from sklearn.datasets import make_classification\n",
    "from sklearn.metrics import confusion_matrix, ConfusionMatrixDisplay\n",
    "from sklearn.svm import SVC\n",
    "\n",
    "knn = KNeighborsClassifier(n_neighbors=k)\n",
    "knn.fit(whiteX_train_scaled, whitey_train.ravel())\n",
    "\n",
    "predictions = knn.predict(whiteX_test_scaled)\n",
    "cm = confusion_matrix(whitey_test, predictions, labels=knn.classes_)\n",
    "disp = ConfusionMatrixDisplay(confusion_matrix=cm,\n",
    "                              display_labels=knn.classes_)\n",
    "disp.plot()\n",
    "\n",
    "plt.savefig(\"White Wine KNN Matrix\"+'.jpg')\n",
    "\n",
    "plt.show()"
   ]
  },
  {
   "cell_type": "code",
   "execution_count": null,
   "id": "b2f15171",
   "metadata": {},
   "outputs": [],
   "source": []
  },
  {
   "cell_type": "code",
   "execution_count": null,
   "id": "ef710096",
   "metadata": {},
   "outputs": [],
   "source": []
  },
  {
   "cell_type": "code",
   "execution_count": null,
   "id": "578efe99",
   "metadata": {},
   "outputs": [],
   "source": []
  },
  {
   "cell_type": "code",
   "execution_count": null,
   "id": "21f618bf",
   "metadata": {},
   "outputs": [],
   "source": []
  },
  {
   "cell_type": "code",
   "execution_count": null,
   "id": "98dd5472",
   "metadata": {},
   "outputs": [],
   "source": []
  },
  {
   "cell_type": "code",
   "execution_count": null,
   "id": "711031a7",
   "metadata": {},
   "outputs": [],
   "source": [
    "# used https://www.scikit-yb.org/en/latest/api/classifier/confusion_matrix.html as a reference\n",
    "#from sklearn.datasets import load_digits\n",
    "#from sklearn.model_selection import train_test_split as tts\n",
    "#from sklearn.linear_model import LogisticRegression\n",
    "#from sklearn.metrics import ConfusionMatrixDisplay\n",
    "#from sklearn import svm, datasets"
   ]
  },
  {
   "cell_type": "code",
   "execution_count": null,
   "id": "cc7d5212",
   "metadata": {},
   "outputs": [],
   "source": [
    "#list(red)"
   ]
  },
  {
   "cell_type": "code",
   "execution_count": null,
   "id": "9efbe1b1",
   "metadata": {},
   "outputs": [],
   "source": [
    "#assign data to X and y\n",
    "#from sklearn.metrics import confusion_matrix\n",
    "\n",
    "#assign data to X and y\n",
    "#X = red[[\"fixed acidity\", \"volatile acidity\", \"citric acid\", \"residual sugar\", \"chlorides\", \"free sulfur dioxide\", \"total sulfur dioxide\", \"density\", \"pH\", \"sulphates\", \"alcohol\"]]\n",
    "#y = red[\"quality\"].values.reshape(-1, 1)\n",
    "#class_names = list(red)\n"
   ]
  },
  {
   "cell_type": "code",
   "execution_count": null,
   "id": "354abe41",
   "metadata": {},
   "outputs": [],
   "source": [
    "# Split the data into a training set and a test set\n",
    "#X_train, X_test, y_train, y_test = train_test_split(X, y, random_state=0)\n",
    "\n",
    "# Run classifier, using a model that is too regularized (C too low) to see\n",
    "# the impact on the results\n",
    "#classifier = svm.SVC(kernel=\"linear\", C=0.01).fit(X_train, y_train.ravel())\n"
   ]
  },
  {
   "cell_type": "code",
   "execution_count": null,
   "id": "e4c21e8c",
   "metadata": {},
   "outputs": [],
   "source": [
    "#np.set_printoptions(precision=2)\n",
    "\n",
    "# Plot non-normalized confusion matrix\n",
    "#titles_options = [\n",
    "    #(\"Confusion matrix, without normalization\", None),\n",
    "    #(\"Normalized confusion matrix\", \"true\"),\n",
    "#]\n",
    "#for title, normalize in titles_options:\n",
    "    #disp = ConfusionMatrixDisplay.from_estimator(\n",
    "       # classifier,\n",
    "       # X_test,\n",
    "       # y_test,\n",
    "       # display_labels=class_names,\n",
    "       # cmap=plt.cm.Blues,\n",
    "       # normalize=normalize,\n",
    "   # )\n",
    "    #disp.ax_.set_title(title)\n",
    "\n",
    "   # print(title)\n",
    "    #print(disp.confusion_matrix)\n",
    "#\n",
    "#plt.show()"
   ]
  },
  {
   "cell_type": "code",
   "execution_count": null,
   "id": "536144ce",
   "metadata": {},
   "outputs": [],
   "source": []
  },
  {
   "cell_type": "code",
   "execution_count": null,
   "id": "c6ad72b2",
   "metadata": {},
   "outputs": [],
   "source": []
  }
 ],
 "metadata": {
  "kernelspec": {
   "display_name": "Python 3",
   "language": "python",
   "name": "python3"
  },
  "language_info": {
   "codemirror_mode": {
    "name": "ipython",
    "version": 3
   },
   "file_extension": ".py",
   "mimetype": "text/x-python",
   "name": "python",
   "nbconvert_exporter": "python",
   "pygments_lexer": "ipython3",
   "version": "3.8.8"
  }
 },
 "nbformat": 4,
 "nbformat_minor": 5
}
