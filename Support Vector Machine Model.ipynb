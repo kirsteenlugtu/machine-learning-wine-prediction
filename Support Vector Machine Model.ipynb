{
 "cells": [
  {
   "cell_type": "markdown",
   "id": "20762bd9",
   "metadata": {},
   "source": [
    "# Import libraries"
   ]
  },
  {
   "cell_type": "code",
   "execution_count": null,
   "id": "9d3190b2",
   "metadata": {},
   "outputs": [],
   "source": [
    "import matplotlib.pyplot as plt\n",
    "import pandas as pd\n",
    "import numpy as np\n",
    "import os\n",
    "\n",
    "from sklearn.preprocessing import MinMaxScaler, StandardScaler"
   ]
  },
  {
   "cell_type": "markdown",
   "id": "acaf8ce3",
   "metadata": {},
   "source": [
    "# Import data\n",
    "Import red wine data, white wine data"
   ]
  },
  {
   "cell_type": "code",
   "execution_count": null,
   "id": "2b8815ee",
   "metadata": {},
   "outputs": [],
   "source": [
    "red_df = pd.read_csv(\"Data/winequality-red.csv\")\n",
    "white_df = pd.read_csv(\"Data/winequality-white.csv\")"
   ]
  },
  {
   "cell_type": "code",
   "execution_count": null,
   "id": "f3f426e2",
   "metadata": {},
   "outputs": [],
   "source": [
    "red_X = red_df.drop(columns=\"quality\")\n",
    "red_y = red_df[\"quality\"].values.reshape(-1, 1)\n",
    "\n",
    "white_X = white_df.drop(columns=\"quality\")\n",
    "white_y = white_df[\"quality\"].values.reshape(-1, 1)"
   ]
  },
  {
   "cell_type": "code",
   "execution_count": null,
   "id": "462e98a1",
   "metadata": {},
   "outputs": [],
   "source": [
    "white_X.count"
   ]
  },
  {
   "cell_type": "code",
   "execution_count": null,
   "id": "1d198d83",
   "metadata": {},
   "outputs": [],
   "source": [
    "featureNames = red_X.columns\n",
    "featureNames"
   ]
  },
  {
   "cell_type": "markdown",
   "id": "f3dc3db0",
   "metadata": {},
   "source": [
    "# Train test split"
   ]
  },
  {
   "cell_type": "markdown",
   "id": "8bb37d70",
   "metadata": {},
   "source": [
    "Stratify training data to ensure training data and test data will include equal distribution of all quality scores"
   ]
  },
  {
   "cell_type": "code",
   "execution_count": null,
   "id": "c66a097b",
   "metadata": {},
   "outputs": [],
   "source": [
    "from sklearn.model_selection import train_test_split\n",
    "\n",
    "redX_train, redX_test, redy_train, redy_test = train_test_split(red_X, red_y, stratify=red_y, random_state=42)\n",
    "whiteX_train, whiteX_test, whitey_train, whitey_test = train_test_split(white_X, white_y, stratify=white_y, random_state=42)"
   ]
  },
  {
   "cell_type": "code",
   "execution_count": null,
   "id": "302bca07",
   "metadata": {},
   "outputs": [],
   "source": [
    "# ensure count of quality scores reflect distribution of quality scores in data\n",
    "\n",
    "number_list = np.array(redy_train)\n",
    "# number_list = np.array(whitey_train)\n",
    "\n",
    "(unique, counts) = np.unique(number_list, return_counts=True)\n",
    "frequencies = np.asarray((unique, counts)).T\n",
    "\n",
    "frequencies"
   ]
  },
  {
   "cell_type": "markdown",
   "id": "0db70e45",
   "metadata": {},
   "source": [
    "# Scale data"
   ]
  },
  {
   "cell_type": "markdown",
   "id": "4c78aa7d",
   "metadata": {},
   "source": [
    "function to scale using MinMaxScaler or StandardScaler"
   ]
  },
  {
   "cell_type": "code",
   "execution_count": null,
   "id": "5b7aa432",
   "metadata": {},
   "outputs": [],
   "source": [
    "def scaleData(XTrain, scaler):\n",
    "    if (scaler == \"MinMaxScaler\"):\n",
    "        mm_scaler = MinMaxScaler().fit(XTrain)\n",
    "        return mm_scaler\n",
    "    \n",
    "    elif (scaler == \"StandardScaler\"):\n",
    "        ss_scaler = StandardScaler().fit(XTrain)\n",
    "        return ss_scaler\n",
    "    \n",
    "    else:\n",
    "        print (\"Choose MinMaxScaler or StandardScaler\")"
   ]
  },
  {
   "cell_type": "code",
   "execution_count": null,
   "id": "d8c32a1b",
   "metadata": {},
   "outputs": [],
   "source": [
    "# choose type of scaler\n",
    "\n",
    "scaler = \"MinMaxScaler\"\n",
    "# scaler = \"StandardScaler\"\n",
    "\n",
    "X_red_scaler = scaleData(redX_train, scaler)\n",
    "\n",
    "redX_train = X_red_scaler.transform(redX_train)\n",
    "redX_test = X_red_scaler.transform(redX_test)\n",
    "\n",
    "X_white_scaler = scaleData(whiteX_train, scaler)\n",
    "\n",
    "whiteX_train = X_white_scaler.transform(whiteX_train)\n",
    "whiteX_test = X_white_scaler.transform(whiteX_test)"
   ]
  },
  {
   "cell_type": "markdown",
   "id": "8247c954",
   "metadata": {},
   "source": [
    "# SVM Model on red wine data"
   ]
  },
  {
   "cell_type": "code",
   "execution_count": null,
   "id": "a4f3f3e2",
   "metadata": {},
   "outputs": [],
   "source": [
    "from sklearn.svm import SVC \n",
    "\n",
    "red_model = SVC(kernel='linear')\n",
    "red_model.fit(redX_train, redy_train.ravel())"
   ]
  },
  {
   "cell_type": "markdown",
   "id": "e24b66fd",
   "metadata": {},
   "source": [
    "# Accuracy of SVM Model on red wine data"
   ]
  },
  {
   "cell_type": "code",
   "execution_count": null,
   "id": "42f6db7b",
   "metadata": {},
   "outputs": [],
   "source": [
    "# Support Vector Model Accuracy\n",
    "print('Test Accuracy on red %.3f' % red_model.score(redX_test, redy_test))"
   ]
  },
  {
   "cell_type": "markdown",
   "id": "42a9ff13",
   "metadata": {},
   "source": [
    "# SVM Model on white wine data"
   ]
  },
  {
   "cell_type": "code",
   "execution_count": null,
   "id": "234510f6",
   "metadata": {},
   "outputs": [],
   "source": [
    "white_model = SVC(kernel='linear')\n",
    "# white_model.fit(whiteX_train, whitey_train.ravel())\n",
    "white_model.fit(whiteX_train, whitey_train.ravel())"
   ]
  },
  {
   "cell_type": "markdown",
   "id": "5deb5874",
   "metadata": {},
   "source": [
    "# Accuracy of SVM Model on white wine data"
   ]
  },
  {
   "cell_type": "code",
   "execution_count": null,
   "id": "5f308a65",
   "metadata": {},
   "outputs": [],
   "source": [
    "print('Test Accuracy on white %.3f' % white_model.score(whiteX_test, whitey_test))"
   ]
  },
  {
   "cell_type": "markdown",
   "id": "7f397d82",
   "metadata": {},
   "source": [
    "# Classification Report on red wine data"
   ]
  },
  {
   "cell_type": "code",
   "execution_count": null,
   "id": "9077e8c2",
   "metadata": {},
   "outputs": [],
   "source": [
    "red_quality_scores = [\"Quality 3\", \"Quality 4\", \"Quality 5\", \"Quality 6\", \"Quality 7\", \"Quality 8\"]"
   ]
  },
  {
   "cell_type": "code",
   "execution_count": null,
   "id": "1ffa73b7",
   "metadata": {},
   "outputs": [],
   "source": [
    "from sklearn.metrics import classification_report\n",
    "\n",
    "# Calculate classification report for red\n",
    "\n",
    "predictions = red_model.predict(redX_test)\n",
    "print(classification_report(redy_test, predictions,\n",
    "                            target_names=red_quality_scores))"
   ]
  },
  {
   "cell_type": "markdown",
   "id": "eed124be",
   "metadata": {},
   "source": [
    "# Classification Report on white wine data"
   ]
  },
  {
   "cell_type": "code",
   "execution_count": null,
   "id": "00cf93b5",
   "metadata": {},
   "outputs": [],
   "source": [
    "white_quality_scores = [\"Quality 3\", \"Quality 4\", \"Quality 5\", \"Quality 6\", \"Quality 7\", \"Quality 8\", \"Quality 9\"]"
   ]
  },
  {
   "cell_type": "code",
   "execution_count": null,
   "id": "a18faeb6",
   "metadata": {},
   "outputs": [],
   "source": [
    "# Calculate classification report for white\n",
    "\n",
    "predictions = white_model.predict(whiteX_test)\n",
    "print(classification_report(whitey_test, predictions,\n",
    "                            target_names=white_quality_scores))"
   ]
  },
  {
   "cell_type": "markdown",
   "id": "c06c1be6",
   "metadata": {},
   "source": [
    "# Grid Search Parameter for red wine data"
   ]
  },
  {
   "cell_type": "code",
   "execution_count": null,
   "id": "99ad6d34",
   "metadata": {},
   "outputs": [],
   "source": [
    "from sklearn.model_selection import GridSearchCV\n",
    "\n",
    "# param_grid = {'C': [3, 4, 5, 6, 7]}\n",
    "param_grid = {'C': [4, 4.5, 5.5, 6, 6.5]}\n",
    "\n",
    "red_grid = GridSearchCV(red_model, param_grid, verbose=3)"
   ]
  },
  {
   "cell_type": "code",
   "execution_count": null,
   "id": "4078d2bf",
   "metadata": {},
   "outputs": [],
   "source": [
    "red_grid.fit(redX_train, redy_train)"
   ]
  },
  {
   "cell_type": "code",
   "execution_count": null,
   "id": "fba70dc4",
   "metadata": {},
   "outputs": [],
   "source": [
    "print(red_grid.best_params_)"
   ]
  },
  {
   "cell_type": "code",
   "execution_count": null,
   "id": "e0f693ac",
   "metadata": {},
   "outputs": [],
   "source": [
    "print(red_grid.best_score_)"
   ]
  },
  {
   "cell_type": "code",
   "execution_count": null,
   "id": "41f7d454",
   "metadata": {},
   "outputs": [],
   "source": [
    "print(red_grid.score(redX_test,redy_test))"
   ]
  },
  {
   "cell_type": "code",
   "execution_count": null,
   "id": "1c95a1d5",
   "metadata": {},
   "outputs": [],
   "source": [
    "predictions = red_grid.predict(redX_test)"
   ]
  },
  {
   "cell_type": "code",
   "execution_count": null,
   "id": "0f5b568a",
   "metadata": {},
   "outputs": [],
   "source": [
    "\n",
    "print(classification_report(redy_test, predictions,\n",
    "                            target_names=red_quality_scores))"
   ]
  },
  {
   "cell_type": "markdown",
   "id": "fe6a3500",
   "metadata": {},
   "source": [
    "# Grid Search Parameter for white wine data"
   ]
  },
  {
   "cell_type": "code",
   "execution_count": null,
   "id": "e15f0ab5",
   "metadata": {},
   "outputs": [],
   "source": [
    "param_grid = {'C': [3, 4, 5, 6, 7]}\n",
    "\n",
    "white_grid = GridSearchCV(white_model, param_grid, verbose=3)"
   ]
  },
  {
   "cell_type": "code",
   "execution_count": null,
   "id": "ca30d49e",
   "metadata": {},
   "outputs": [],
   "source": [
    "white_grid.fit(whiteX_train, whitey_train)"
   ]
  },
  {
   "cell_type": "code",
   "execution_count": null,
   "id": "a4de4f89",
   "metadata": {},
   "outputs": [],
   "source": [
    "print(white_grid.best_params_)"
   ]
  },
  {
   "cell_type": "code",
   "execution_count": null,
   "id": "5a0b9299",
   "metadata": {},
   "outputs": [],
   "source": [
    "print(white_grid.best_score_)"
   ]
  },
  {
   "cell_type": "code",
   "execution_count": null,
   "id": "a45f8107",
   "metadata": {},
   "outputs": [],
   "source": [
    "print(white_grid.score(whiteX_test,whitey_test))"
   ]
  },
  {
   "cell_type": "code",
   "execution_count": null,
   "id": "03d63c37",
   "metadata": {},
   "outputs": [],
   "source": [
    "predictions = white_grid.predict(whiteX_test)\n",
    "\n",
    "print(classification_report(whitey_test, predictions,\n",
    "                            target_names=white_quality_scores))"
   ]
  },
  {
   "cell_type": "code",
   "execution_count": null,
   "id": "9147ed2f",
   "metadata": {},
   "outputs": [],
   "source": []
  },
  {
   "cell_type": "markdown",
   "id": "a8dc0ebf",
   "metadata": {},
   "source": [
    "# Confusion Matrix"
   ]
  },
  {
   "cell_type": "code",
   "execution_count": null,
   "id": "e326a7a8",
   "metadata": {},
   "outputs": [],
   "source": [
    "from sklearn.metrics import confusion_matrix, ConfusionMatrixDisplay\n",
    "\n",
    "red_predictions = red_grid.predict(redX_test)\n",
    "\n",
    "cm = confusion_matrix(redy_test, red_predictions, labels=red_grid.classes_)\n",
    "disp = ConfusionMatrixDisplay(confusion_matrix=cm, display_labels=red_grid.classes_)\n",
    "disp.plot()\n",
    "\n",
    "\n",
    "plt.savefig(\"model_figures/SVM_conf_matrix_red.jpg\")"
   ]
  },
  {
   "cell_type": "code",
   "execution_count": null,
   "id": "8b1641df",
   "metadata": {},
   "outputs": [],
   "source": [
    "from sklearn.metrics import confusion_matrix, ConfusionMatrixDisplay\n",
    "\n",
    "white_predictions = white_grid.predict(whiteX_test)\n",
    "\n",
    "cm = confusion_matrix(whitey_test, white_predictions, labels=white_grid.classes_)\n",
    "disp = ConfusionMatrixDisplay(confusion_matrix=cm, display_labels=white_grid.classes_)\n",
    "disp.plot()\n",
    "\n",
    "# plt.show()\n",
    "plt.savefig(\"model_figures/SVM_conf_matrix_white.jpg\")"
   ]
  },
  {
   "cell_type": "markdown",
   "id": "5e8a5724",
   "metadata": {},
   "source": [
    "# Weights of coefficients"
   ]
  },
  {
   "cell_type": "markdown",
   "id": "9ef552e7",
   "metadata": {},
   "source": [
    "Red wine"
   ]
  },
  {
   "cell_type": "code",
   "execution_count": null,
   "id": "196655f0",
   "metadata": {},
   "outputs": [],
   "source": [
    "pd.Series(abs(red_model.coef_[0]), index=featureNames).nlargest(11).plot(kind='barh')\n",
    "plt.savefig(\"model_figures/SVM_ftr_weight_red.jpg\")"
   ]
  },
  {
   "cell_type": "code",
   "execution_count": null,
   "id": "af356d69",
   "metadata": {},
   "outputs": [],
   "source": [
    "redCoef = pd.Series(abs(red_model.coef_[0]), index=featureNames).nlargest(11)\n",
    "redCoef"
   ]
  },
  {
   "cell_type": "markdown",
   "id": "2fd43ebb",
   "metadata": {},
   "source": [
    "White wine"
   ]
  },
  {
   "cell_type": "code",
   "execution_count": null,
   "id": "7774bb16",
   "metadata": {},
   "outputs": [],
   "source": [
    "pd.Series(abs(white_model.coef_[0]), index=featureNames).nlargest(11).plot(kind='barh')\n",
    "plt.savefig(\"model_figures/SVM_ftr_weight_white.jpg\")"
   ]
  },
  {
   "cell_type": "code",
   "execution_count": null,
   "id": "8f701e17",
   "metadata": {},
   "outputs": [],
   "source": []
  },
  {
   "cell_type": "code",
   "execution_count": null,
   "id": "0603726c",
   "metadata": {},
   "outputs": [],
   "source": [
    "whiteCoef = pd.Series(abs(white_model.coef_[0]), index=featureNames).nlargest(11)\n",
    "whiteCoef"
   ]
  },
  {
   "cell_type": "markdown",
   "id": "ea46ad23",
   "metadata": {},
   "source": [
    "Combine red and white data to make dataset with all wine data  "
   ]
  },
  {
   "cell_type": "code",
   "execution_count": null,
   "id": "f7df71f1",
   "metadata": {},
   "outputs": [],
   "source": [
    "red_df['type'] = pd.Series([\"red\" for x in range(len(red_df.index))])\n",
    "red_df.head()\n",
    "white_df['type'] = pd.Series([\"white\" for x in range(len(white_df.index))])\n",
    "white_df.head()"
   ]
  },
  {
   "cell_type": "code",
   "execution_count": null,
   "id": "02dd5ea2",
   "metadata": {},
   "outputs": [],
   "source": [
    "redwhite_df = pd.concat([red_df, white_df])\n",
    "redwhite_df.to_csv(\"red_white_data.csv\")"
   ]
  },
  {
   "cell_type": "code",
   "execution_count": null,
   "id": "2c736743",
   "metadata": {},
   "outputs": [],
   "source": []
  }
 ],
 "metadata": {
  "kernelspec": {
   "display_name": "Python 3",
   "language": "python",
   "name": "python3"
  },
  "language_info": {
   "codemirror_mode": {
    "name": "ipython",
    "version": 3
   },
   "file_extension": ".py",
   "mimetype": "text/x-python",
   "name": "python",
   "nbconvert_exporter": "python",
   "pygments_lexer": "ipython3",
   "version": "3.8.8"
  }
 },
 "nbformat": 4,
 "nbformat_minor": 5
}
