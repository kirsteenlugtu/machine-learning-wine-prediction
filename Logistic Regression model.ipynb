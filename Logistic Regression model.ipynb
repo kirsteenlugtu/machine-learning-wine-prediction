{
 "cells": [
  {
   "cell_type": "markdown",
   "id": "55978231",
   "metadata": {},
   "source": [
    "# Import Libraries"
   ]
  },
  {
   "cell_type": "code",
   "execution_count": null,
   "id": "574d2bce",
   "metadata": {},
   "outputs": [],
   "source": [
    "import matplotlib.pyplot as plt\n",
    "from sklearn.model_selection import train_test_split\n",
    "import pandas as pd\n",
    "import numpy as np"
   ]
  },
  {
   "cell_type": "code",
   "execution_count": null,
   "id": "850ace3e",
   "metadata": {},
   "outputs": [],
   "source": [
    "#import wine CSVs\n",
    "red_csv = \"Data/winequality-red.csv\"\n",
    "white_csv = \"Data/winequality-white.csv\""
   ]
  },
  {
   "cell_type": "code",
   "execution_count": null,
   "id": "099c4ded",
   "metadata": {},
   "outputs": [],
   "source": [
    "red = pd.read_csv(red_csv)\n",
    "white= pd.read_csv(white_csv)\n",
    "\n",
    "red.head()"
   ]
  },
  {
   "cell_type": "code",
   "execution_count": null,
   "id": "106cd2a4",
   "metadata": {},
   "outputs": [],
   "source": [
    "#assign data to X and y\n",
    "red_X = red[[\"fixed acidity\", \"volatile acidity\", \"citric acid\", \"residual sugar\", \"chlorides\", \"free sulfur dioxide\", \"total sulfur dioxide\", \"density\", \"pH\", \"sulphates\", \"alcohol\"]]\n",
    "red_y = red[\"quality\"].values.reshape(-1, 1)\n",
    "print(red_X.shape, red_y.shape)"
   ]
  },
  {
   "cell_type": "code",
   "execution_count": null,
   "id": "8f1e7fbf",
   "metadata": {},
   "outputs": [],
   "source": []
  },
  {
   "cell_type": "code",
   "execution_count": null,
   "id": "b9970991",
   "metadata": {},
   "outputs": [],
   "source": [
    "#train test split\n",
    "from sklearn.model_selection import train_test_split\n",
    "\n",
    "redX_train, redX_test, redy_train, redy_test = train_test_split(red_X, red_y, stratify=red_y, random_state=42)"
   ]
  },
  {
   "cell_type": "code",
   "execution_count": null,
   "id": "cb9e40f5",
   "metadata": {},
   "outputs": [],
   "source": [
    "#scale Data\n",
    "from sklearn.preprocessing import StandardScaler\n",
    "\n",
    "# Create a StandardScater model and fit it to the training data\n",
    "redX_scaler = StandardScaler().fit(redX_train)"
   ]
  },
  {
   "cell_type": "code",
   "execution_count": null,
   "id": "ff21ede4",
   "metadata": {},
   "outputs": [],
   "source": [
    "# Transform the training and testing data using the X_scaler and y_scaler models\n",
    "redX_train_scaled = redX_scaler.transform(redX_train)\n",
    "redX_test_scaled = redX_scaler.transform(redX_test)"
   ]
  },
  {
   "cell_type": "code",
   "execution_count": null,
   "id": "ce3fe7e0",
   "metadata": {
    "scrolled": true
   },
   "outputs": [],
   "source": [
    "number_list = np.array(redy_train)\n",
    "\n",
    "(unique, counts) = np.unique(number_list, return_counts=True)\n",
    "frequencies = np.asarray((unique, counts)).T\n",
    "\n",
    "frequencies"
   ]
  },
  {
   "cell_type": "code",
   "execution_count": null,
   "id": "b619c642",
   "metadata": {
    "scrolled": true
   },
   "outputs": [],
   "source": [
    "number_list = np.array(redy_test)\n",
    "\n",
    "(unique, counts) = np.unique(number_list, return_counts=True)\n",
    "frequencies = np.asarray((unique, counts)).T\n",
    "\n",
    "frequencies"
   ]
  },
  {
   "cell_type": "markdown",
   "id": "11d3185a",
   "metadata": {},
   "source": [
    "# Red Logistic Regression"
   ]
  },
  {
   "cell_type": "code",
   "execution_count": null,
   "id": "072046ba",
   "metadata": {},
   "outputs": [],
   "source": [
    "from sklearn.linear_model import LogisticRegression\n",
    "red_classifier = LogisticRegression(max_iter = 10000)\n",
    "red_classifier"
   ]
  },
  {
   "cell_type": "code",
   "execution_count": null,
   "id": "2938b627",
   "metadata": {},
   "outputs": [],
   "source": [
    "red_classifier = red_classifier.fit(redX_train_scaled, redy_train.ravel())"
   ]
  },
  {
   "cell_type": "code",
   "execution_count": null,
   "id": "a74b424b",
   "metadata": {
    "scrolled": false
   },
   "outputs": [],
   "source": [
    "print(f\"Training Data Score: {red_classifier.score(redX_train_scaled, redy_train)}\")\n",
    "print(f\"Testing Data Score: {red_classifier.score(redX_test_scaled, redy_test)}\")"
   ]
  },
  {
   "cell_type": "code",
   "execution_count": null,
   "id": "8542c1df",
   "metadata": {
    "scrolled": true
   },
   "outputs": [],
   "source": [
    "#make predictions\n",
    "predictions = red_classifier.predict(redX_test_scaled)\n",
    "print(f\"First 10 Predictions:   {predictions[:10]}\")\n",
    "print(f\"First 10 Actual labels: {redy_test[:10].tolist()}\")"
   ]
  },
  {
   "cell_type": "code",
   "execution_count": null,
   "id": "75ca0a83",
   "metadata": {
    "scrolled": true
   },
   "outputs": [],
   "source": [
    "red_df = pd.DataFrame({\"Prediction\": predictions, \"Actual\": redy_test.ravel()}).reset_index(drop=True)\n",
    "red_df"
   ]
  },
  {
   "cell_type": "code",
   "execution_count": null,
   "id": "732a2bd9",
   "metadata": {
    "scrolled": true
   },
   "outputs": [],
   "source": [
    "import matplotlib.pyplot as plt\n",
    "from sklearn.datasets import make_classification\n",
    "from sklearn.metrics import confusion_matrix, ConfusionMatrixDisplay\n",
    "from sklearn.svm import SVC\n",
    "\n",
    "predictions = red_classifier.predict(redX_test_scaled)\n",
    "cm = confusion_matrix(redy_test, predictions, labels=red_classifier.classes_)\n",
    "disp = ConfusionMatrixDisplay(confusion_matrix=cm,\n",
    "                              display_labels=red_classifier.classes_)\n",
    "disp.plot()\n",
    "\n",
    "plt.savefig(\"Red Wine Logistic Regression Matrix\"+'.jpg')\n",
    "\n",
    "plt.show()"
   ]
  },
  {
   "cell_type": "code",
   "execution_count": null,
   "id": "b069c197",
   "metadata": {},
   "outputs": [],
   "source": []
  },
  {
   "cell_type": "markdown",
   "id": "e51c2439",
   "metadata": {},
   "source": [
    "# Scale White Wine Data"
   ]
  },
  {
   "cell_type": "code",
   "execution_count": null,
   "id": "ced9eebf",
   "metadata": {},
   "outputs": [],
   "source": [
    "#assign data to X and y\n",
    "\n",
    "whiteX = white[[\"fixed acidity\", \"volatile acidity\", \"citric acid\", \"residual sugar\", \"chlorides\", \"free sulfur dioxide\", \"total sulfur dioxide\", \"density\", \"pH\", \"sulphates\", \"alcohol\"]]\n",
    "whitey = white[\"quality\"].values.reshape(-1, 1)\n",
    "print(whiteX.shape, whitey.shape)"
   ]
  },
  {
   "cell_type": "code",
   "execution_count": null,
   "id": "d76553ae",
   "metadata": {},
   "outputs": [],
   "source": [
    "#train test split\n",
    "from sklearn.model_selection import train_test_split\n",
    "\n",
    "whiteX_train, whiteX_test, whitey_train, whitey_test = train_test_split(whiteX, whitey, stratify=whitey, random_state=42)"
   ]
  },
  {
   "cell_type": "code",
   "execution_count": null,
   "id": "615910d9",
   "metadata": {},
   "outputs": [],
   "source": [
    "#scale Data\n",
    "from sklearn.preprocessing import StandardScaler\n",
    "\n",
    "# Create a StandardScater model and fit it to the training data\n",
    "\n",
    "whiteX_scaler = StandardScaler().fit(whiteX_train)"
   ]
  },
  {
   "cell_type": "code",
   "execution_count": null,
   "id": "6646b947",
   "metadata": {},
   "outputs": [],
   "source": [
    "# Transform the training and testing data using the X_scaler and y_scaler models\n",
    "\n",
    "whiteX_train_scaled = whiteX_scaler.transform(whiteX_train)\n",
    "whiteX_test_scaled = whiteX_scaler.transform(whiteX_test)"
   ]
  },
  {
   "cell_type": "code",
   "execution_count": null,
   "id": "26695374",
   "metadata": {},
   "outputs": [],
   "source": [
    "number_list = np.array(whitey_train)\n",
    "\n",
    "(unique, counts) = np.unique(number_list, return_counts=True)\n",
    "frequencies = np.asarray((unique, counts)).T\n",
    "\n",
    "frequencies"
   ]
  },
  {
   "cell_type": "code",
   "execution_count": null,
   "id": "902e0852",
   "metadata": {},
   "outputs": [],
   "source": [
    "number_list = np.array(whitey_test)\n",
    "\n",
    "(unique, counts) = np.unique(number_list, return_counts=True)\n",
    "frequencies = np.asarray((unique, counts)).T\n",
    "\n",
    "frequencies"
   ]
  },
  {
   "cell_type": "code",
   "execution_count": null,
   "id": "2b2d3d53",
   "metadata": {},
   "outputs": [],
   "source": []
  },
  {
   "cell_type": "markdown",
   "id": "991c276e",
   "metadata": {},
   "source": [
    "# White Logistic Regression"
   ]
  },
  {
   "cell_type": "code",
   "execution_count": null,
   "id": "a824c6cf",
   "metadata": {},
   "outputs": [],
   "source": [
    "from sklearn.linear_model import LogisticRegression\n",
    "white_classifier = LogisticRegression(max_iter = 20000)\n",
    "white_classifier"
   ]
  },
  {
   "cell_type": "code",
   "execution_count": null,
   "id": "4fff1d29",
   "metadata": {},
   "outputs": [],
   "source": [
    "white_classifier = white_classifier.fit(whiteX_train_scaled, whitey_train.ravel())"
   ]
  },
  {
   "cell_type": "code",
   "execution_count": null,
   "id": "0949a303",
   "metadata": {},
   "outputs": [],
   "source": [
    "print(f\"Training Data Score: {white_classifier.score(whiteX_train_scaled, whitey_train)}\")\n",
    "print(f\"Testing Data Score: {white_classifier.score(whiteX_test_scaled, whitey_test)}\")"
   ]
  },
  {
   "cell_type": "code",
   "execution_count": null,
   "id": "b4f4252b",
   "metadata": {},
   "outputs": [],
   "source": [
    "#make predictions\n",
    "predictions = white_classifier.predict(whiteX_test_scaled)\n",
    "print(f\"First 10 Predictions:   {predictions[:10]}\")\n",
    "print(f\"First 10 Actual labels: {whitey_test[:10].tolist()}\")"
   ]
  },
  {
   "cell_type": "code",
   "execution_count": null,
   "id": "4f2315e9",
   "metadata": {
    "scrolled": true
   },
   "outputs": [],
   "source": [
    "pd.DataFrame({\"Prediction\": predictions, \"Actual\": whitey_test.ravel()}).reset_index(drop=True)"
   ]
  },
  {
   "cell_type": "code",
   "execution_count": null,
   "id": "460813b2",
   "metadata": {
    "scrolled": true
   },
   "outputs": [],
   "source": [
    "import matplotlib.pyplot as plt\n",
    "from sklearn.datasets import make_classification\n",
    "from sklearn.metrics import confusion_matrix, ConfusionMatrixDisplay\n",
    "from sklearn.svm import SVC\n",
    "\n",
    "predictions = white_classifier.predict(whiteX_test_scaled)\n",
    "cm = confusion_matrix(whitey_test, predictions, labels=white_classifier.classes_)\n",
    "disp = ConfusionMatrixDisplay(confusion_matrix=cm,\n",
    "                              display_labels=white_classifier.classes_)\n",
    "disp.plot()\n",
    "\n",
    "plt.savefig(\"White Wine Logistic Regression Matrix\"+'.jpg')\n",
    "\n",
    "plt.show()"
   ]
  },
  {
   "cell_type": "code",
   "execution_count": null,
   "id": "a47e00f0",
   "metadata": {},
   "outputs": [],
   "source": []
  }
 ],
 "metadata": {
  "kernelspec": {
   "display_name": "Python 3",
   "language": "python",
   "name": "python3"
  },
  "language_info": {
   "codemirror_mode": {
    "name": "ipython",
    "version": 3
   },
   "file_extension": ".py",
   "mimetype": "text/x-python",
   "name": "python",
   "nbconvert_exporter": "python",
   "pygments_lexer": "ipython3",
   "version": "3.8.8"
  }
 },
 "nbformat": 4,
 "nbformat_minor": 5
}
